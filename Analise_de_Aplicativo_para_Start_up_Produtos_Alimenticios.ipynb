{
  "cells": [
    {
      "cell_type": "markdown",
      "metadata": {
        "id": "view-in-github",
        "colab_type": "text"
      },
      "source": [
        "<a href=\"https://colab.research.google.com/github/debypivatto/my-project/blob/main/Analise_de_Aplicativo_para_Start_up_Produtos_Alimenticios.ipynb\" target=\"_parent\"><img src=\"https://colab.research.google.com/assets/colab-badge.svg\" alt=\"Open In Colab\"/></a>"
      ]
    },
    {
      "cell_type": "markdown",
      "metadata": {
        "id": "xjhzLOpbRLaI"
      },
      "source": [
        "Analise de Usuarios"
      ]
    },
    {
      "cell_type": "markdown",
      "metadata": {
        "id": "fILp9dzmRLaI"
      },
      "source": [
        "1. Abrindo o arquivo de dados e leia a informação geral"
      ]
    },
    {
      "cell_type": "code",
      "execution_count": null,
      "metadata": {
        "id": "TSd29KL8RLaJ"
      },
      "outputs": [],
      "source": [
        "import pandas as pd\n",
        "import numpy as np\n",
        "import matplotlib.pyplot as plt\n",
        "import plotly.express as px\n",
        "from datetime import datetime\n",
        "from scipy import stats as st\n",
        "from scipy.stats import chi2_contingency\n",
        "# importando bibliotecas"
      ]
    },
    {
      "cell_type": "code",
      "execution_count": null,
      "metadata": {
        "id": "UFmtZSNRRLaK"
      },
      "outputs": [],
      "source": [
        "df =  pd.read_csv('/datasets/logs_exp_us.csv')"
      ]
    },
    {
      "cell_type": "code",
      "execution_count": null,
      "metadata": {
        "id": "w66SOMuVRLaK",
        "outputId": "b0dd0d5d-24aa-420b-b262-221094ec7c25"
      },
      "outputs": [
        {
          "name": "stdout",
          "output_type": "stream",
          "text": [
            "      EventName\\tDeviceIDHash\\tEventTimestamp\\tExpId\n",
            "0  MainScreenAppear\\t4575588528974610257\\t1564029...\n",
            "1  MainScreenAppear\\t7416695313311560658\\t1564053...\n",
            "2  PaymentScreenSuccessful\\t3518123091307005509\\t...\n",
            "3  CartScreenAppear\\t3518123091307005509\\t1564054...\n",
            "4  PaymentScreenSuccessful\\t6217807653094995999\\t...\n"
          ]
        }
      ],
      "source": [
        "print(df.head(5))"
      ]
    },
    {
      "cell_type": "code",
      "execution_count": null,
      "metadata": {
        "id": "S-C-1c_eRLaL",
        "outputId": "32b59743-de67-4508-fccc-cd7d2258f87f"
      },
      "outputs": [
        {
          "name": "stdout",
          "output_type": "stream",
          "text": [
            "           EventName\\tDeviceIDHash\\tEventTimestamp\\tExpId\n",
            "75636   MainScreenAppear\\t8827221307118261838\\t1564803...\n",
            "160202  MainScreenAppear\\t263151724829065592\\t15650131...\n",
            "166547  MainScreenAppear\\t434103746454591587\\t15650210...\n",
            "188518  OffersScreenAppear\\t6230745365011993015\\t15650...\n",
            "31019   CartScreenAppear\\t4675313264982714685\\t1564679...\n"
          ]
        }
      ],
      "source": [
        "print(df.sample(5))"
      ]
    },
    {
      "cell_type": "code",
      "execution_count": null,
      "metadata": {
        "id": "ECqzxYzORLaM",
        "outputId": "e9e3e73b-a530-4762-88be-db97f0721d0b"
      },
      "outputs": [
        {
          "data": {
            "text/html": [
              "<div>\n",
              "<style scoped>\n",
              "    .dataframe tbody tr th:only-of-type {\n",
              "        vertical-align: middle;\n",
              "    }\n",
              "\n",
              "    .dataframe tbody tr th {\n",
              "        vertical-align: top;\n",
              "    }\n",
              "\n",
              "    .dataframe thead th {\n",
              "        text-align: right;\n",
              "    }\n",
              "</style>\n",
              "<table border=\"1\" class=\"dataframe\">\n",
              "  <thead>\n",
              "    <tr style=\"text-align: right;\">\n",
              "      <th></th>\n",
              "      <th>EventName\\tDeviceIDHash\\tEventTimestamp\\tExpId</th>\n",
              "    </tr>\n",
              "  </thead>\n",
              "  <tbody>\n",
              "    <tr>\n",
              "      <th>count</th>\n",
              "      <td>244126</td>\n",
              "    </tr>\n",
              "    <tr>\n",
              "      <th>unique</th>\n",
              "      <td>243713</td>\n",
              "    </tr>\n",
              "    <tr>\n",
              "      <th>top</th>\n",
              "      <td>PaymentScreenSuccessful\\t636437379427729086\\t1...</td>\n",
              "    </tr>\n",
              "    <tr>\n",
              "      <th>freq</th>\n",
              "      <td>5</td>\n",
              "    </tr>\n",
              "  </tbody>\n",
              "</table>\n",
              "</div>"
            ],
            "text/plain": [
              "           EventName\\tDeviceIDHash\\tEventTimestamp\\tExpId\n",
              "count                                              244126\n",
              "unique                                             243713\n",
              "top     PaymentScreenSuccessful\\t636437379427729086\\t1...\n",
              "freq                                                    5"
            ]
          },
          "execution_count": 237,
          "metadata": {},
          "output_type": "execute_result"
        }
      ],
      "source": [
        "df.describe()"
      ]
    },
    {
      "cell_type": "code",
      "execution_count": null,
      "metadata": {
        "id": "ayz5_4usRLaN",
        "outputId": "9d02e0ed-da63-46b3-eddc-11cd64cabb81"
      },
      "outputs": [
        {
          "data": {
            "text/plain": [
              "EventName\\tDeviceIDHash\\tEventTimestamp\\tExpId    243713\n",
              "dtype: int64"
            ]
          },
          "execution_count": 238,
          "metadata": {},
          "output_type": "execute_result"
        }
      ],
      "source": [
        "df.nunique()"
      ]
    },
    {
      "cell_type": "code",
      "execution_count": null,
      "metadata": {
        "id": "WC1NVNq1RLaN",
        "outputId": "b5f951cf-a07f-430b-de8a-999918fe6a57"
      },
      "outputs": [
        {
          "data": {
            "text/html": [
              "<div>\n",
              "<style scoped>\n",
              "    .dataframe tbody tr th:only-of-type {\n",
              "        vertical-align: middle;\n",
              "    }\n",
              "\n",
              "    .dataframe tbody tr th {\n",
              "        vertical-align: top;\n",
              "    }\n",
              "\n",
              "    .dataframe thead th {\n",
              "        text-align: right;\n",
              "    }\n",
              "</style>\n",
              "<table border=\"1\" class=\"dataframe\">\n",
              "  <thead>\n",
              "    <tr style=\"text-align: right;\">\n",
              "      <th></th>\n",
              "      <th>EventName\\tDeviceIDHash\\tEventTimestamp\\tExpId</th>\n",
              "    </tr>\n",
              "  </thead>\n",
              "  <tbody>\n",
              "    <tr>\n",
              "      <th>0</th>\n",
              "      <td>MainScreenAppear\\t4575588528974610257\\t1564029...</td>\n",
              "    </tr>\n",
              "    <tr>\n",
              "      <th>1</th>\n",
              "      <td>MainScreenAppear\\t7416695313311560658\\t1564053...</td>\n",
              "    </tr>\n",
              "    <tr>\n",
              "      <th>2</th>\n",
              "      <td>PaymentScreenSuccessful\\t3518123091307005509\\t...</td>\n",
              "    </tr>\n",
              "    <tr>\n",
              "      <th>3</th>\n",
              "      <td>CartScreenAppear\\t3518123091307005509\\t1564054...</td>\n",
              "    </tr>\n",
              "    <tr>\n",
              "      <th>4</th>\n",
              "      <td>PaymentScreenSuccessful\\t6217807653094995999\\t...</td>\n",
              "    </tr>\n",
              "    <tr>\n",
              "      <th>...</th>\n",
              "      <td>...</td>\n",
              "    </tr>\n",
              "    <tr>\n",
              "      <th>244121</th>\n",
              "      <td>MainScreenAppear\\t4599628364049201812\\t1565212...</td>\n",
              "    </tr>\n",
              "    <tr>\n",
              "      <th>244122</th>\n",
              "      <td>MainScreenAppear\\t5849806612437486590\\t1565212...</td>\n",
              "    </tr>\n",
              "    <tr>\n",
              "      <th>244123</th>\n",
              "      <td>MainScreenAppear\\t5746969938801999050\\t1565212...</td>\n",
              "    </tr>\n",
              "    <tr>\n",
              "      <th>244124</th>\n",
              "      <td>MainScreenAppear\\t5746969938801999050\\t1565212...</td>\n",
              "    </tr>\n",
              "    <tr>\n",
              "      <th>244125</th>\n",
              "      <td>OffersScreenAppear\\t5746969938801999050\\t15652...</td>\n",
              "    </tr>\n",
              "  </tbody>\n",
              "</table>\n",
              "<p>244126 rows × 1 columns</p>\n",
              "</div>"
            ],
            "text/plain": [
              "           EventName\\tDeviceIDHash\\tEventTimestamp\\tExpId\n",
              "0       MainScreenAppear\\t4575588528974610257\\t1564029...\n",
              "1       MainScreenAppear\\t7416695313311560658\\t1564053...\n",
              "2       PaymentScreenSuccessful\\t3518123091307005509\\t...\n",
              "3       CartScreenAppear\\t3518123091307005509\\t1564054...\n",
              "4       PaymentScreenSuccessful\\t6217807653094995999\\t...\n",
              "...                                                   ...\n",
              "244121  MainScreenAppear\\t4599628364049201812\\t1565212...\n",
              "244122  MainScreenAppear\\t5849806612437486590\\t1565212...\n",
              "244123  MainScreenAppear\\t5746969938801999050\\t1565212...\n",
              "244124  MainScreenAppear\\t5746969938801999050\\t1565212...\n",
              "244125  OffersScreenAppear\\t5746969938801999050\\t15652...\n",
              "\n",
              "[244126 rows x 1 columns]"
            ]
          },
          "execution_count": 239,
          "metadata": {},
          "output_type": "execute_result"
        }
      ],
      "source": [
        "df"
      ]
    },
    {
      "cell_type": "markdown",
      "metadata": {
        "id": "o70_ugyrRLaN"
      },
      "source": [
        "2. Preparando os dados"
      ]
    },
    {
      "cell_type": "code",
      "execution_count": null,
      "metadata": {
        "id": "M79dR2I0RLaO",
        "outputId": "e9355679-657b-4a64-c28c-7fb3d3cfb95b"
      },
      "outputs": [
        {
          "name": "stdout",
          "output_type": "stream",
          "text": [
            "<class 'pandas.core.frame.DataFrame'>\n",
            "RangeIndex: 244126 entries, 0 to 244125\n",
            "Data columns (total 1 columns):\n",
            " #   Column                                       Non-Null Count   Dtype \n",
            "---  ------                                       --------------   ----- \n",
            " 0   EventName\tDeviceIDHash\tEventTimestamp\tExpId  244126 non-null  object\n",
            "dtypes: object(1)\n",
            "memory usage: 1.9+ MB\n"
          ]
        }
      ],
      "source": [
        "df.info()"
      ]
    },
    {
      "cell_type": "code",
      "execution_count": null,
      "metadata": {
        "id": "n-1RQVCgRLaO"
      },
      "outputs": [],
      "source": [
        "df = pd.read_csv('/datasets/logs_exp_us.csv', sep= '\\t')"
      ]
    },
    {
      "cell_type": "code",
      "execution_count": null,
      "metadata": {
        "id": "9mCKszEfRLaO",
        "outputId": "9dfbd32e-4bf6-4266-ea4e-c78f245262f7"
      },
      "outputs": [
        {
          "data": {
            "text/html": [
              "<div>\n",
              "<style scoped>\n",
              "    .dataframe tbody tr th:only-of-type {\n",
              "        vertical-align: middle;\n",
              "    }\n",
              "\n",
              "    .dataframe tbody tr th {\n",
              "        vertical-align: top;\n",
              "    }\n",
              "\n",
              "    .dataframe thead th {\n",
              "        text-align: right;\n",
              "    }\n",
              "</style>\n",
              "<table border=\"1\" class=\"dataframe\">\n",
              "  <thead>\n",
              "    <tr style=\"text-align: right;\">\n",
              "      <th></th>\n",
              "      <th>EventName</th>\n",
              "      <th>DeviceIDHash</th>\n",
              "      <th>EventTimestamp</th>\n",
              "      <th>ExpId</th>\n",
              "    </tr>\n",
              "  </thead>\n",
              "  <tbody>\n",
              "    <tr>\n",
              "      <th>0</th>\n",
              "      <td>MainScreenAppear</td>\n",
              "      <td>4575588528974610257</td>\n",
              "      <td>1564029816</td>\n",
              "      <td>246</td>\n",
              "    </tr>\n",
              "    <tr>\n",
              "      <th>1</th>\n",
              "      <td>MainScreenAppear</td>\n",
              "      <td>7416695313311560658</td>\n",
              "      <td>1564053102</td>\n",
              "      <td>246</td>\n",
              "    </tr>\n",
              "    <tr>\n",
              "      <th>2</th>\n",
              "      <td>PaymentScreenSuccessful</td>\n",
              "      <td>3518123091307005509</td>\n",
              "      <td>1564054127</td>\n",
              "      <td>248</td>\n",
              "    </tr>\n",
              "    <tr>\n",
              "      <th>3</th>\n",
              "      <td>CartScreenAppear</td>\n",
              "      <td>3518123091307005509</td>\n",
              "      <td>1564054127</td>\n",
              "      <td>248</td>\n",
              "    </tr>\n",
              "    <tr>\n",
              "      <th>4</th>\n",
              "      <td>PaymentScreenSuccessful</td>\n",
              "      <td>6217807653094995999</td>\n",
              "      <td>1564055322</td>\n",
              "      <td>248</td>\n",
              "    </tr>\n",
              "    <tr>\n",
              "      <th>...</th>\n",
              "      <td>...</td>\n",
              "      <td>...</td>\n",
              "      <td>...</td>\n",
              "      <td>...</td>\n",
              "    </tr>\n",
              "    <tr>\n",
              "      <th>244121</th>\n",
              "      <td>MainScreenAppear</td>\n",
              "      <td>4599628364049201812</td>\n",
              "      <td>1565212345</td>\n",
              "      <td>247</td>\n",
              "    </tr>\n",
              "    <tr>\n",
              "      <th>244122</th>\n",
              "      <td>MainScreenAppear</td>\n",
              "      <td>5849806612437486590</td>\n",
              "      <td>1565212439</td>\n",
              "      <td>246</td>\n",
              "    </tr>\n",
              "    <tr>\n",
              "      <th>244123</th>\n",
              "      <td>MainScreenAppear</td>\n",
              "      <td>5746969938801999050</td>\n",
              "      <td>1565212483</td>\n",
              "      <td>246</td>\n",
              "    </tr>\n",
              "    <tr>\n",
              "      <th>244124</th>\n",
              "      <td>MainScreenAppear</td>\n",
              "      <td>5746969938801999050</td>\n",
              "      <td>1565212498</td>\n",
              "      <td>246</td>\n",
              "    </tr>\n",
              "    <tr>\n",
              "      <th>244125</th>\n",
              "      <td>OffersScreenAppear</td>\n",
              "      <td>5746969938801999050</td>\n",
              "      <td>1565212517</td>\n",
              "      <td>246</td>\n",
              "    </tr>\n",
              "  </tbody>\n",
              "</table>\n",
              "<p>244126 rows × 4 columns</p>\n",
              "</div>"
            ],
            "text/plain": [
              "                      EventName         DeviceIDHash  EventTimestamp  ExpId\n",
              "0              MainScreenAppear  4575588528974610257      1564029816    246\n",
              "1              MainScreenAppear  7416695313311560658      1564053102    246\n",
              "2       PaymentScreenSuccessful  3518123091307005509      1564054127    248\n",
              "3              CartScreenAppear  3518123091307005509      1564054127    248\n",
              "4       PaymentScreenSuccessful  6217807653094995999      1564055322    248\n",
              "...                         ...                  ...             ...    ...\n",
              "244121         MainScreenAppear  4599628364049201812      1565212345    247\n",
              "244122         MainScreenAppear  5849806612437486590      1565212439    246\n",
              "244123         MainScreenAppear  5746969938801999050      1565212483    246\n",
              "244124         MainScreenAppear  5746969938801999050      1565212498    246\n",
              "244125       OffersScreenAppear  5746969938801999050      1565212517    246\n",
              "\n",
              "[244126 rows x 4 columns]"
            ]
          },
          "execution_count": 242,
          "metadata": {},
          "output_type": "execute_result"
        }
      ],
      "source": [
        "df"
      ]
    },
    {
      "cell_type": "markdown",
      "metadata": {
        "id": "HoLUAG6kRLaO"
      },
      "source": [
        "<div class=\"alert alert-block alert-success\">\n",
        "<b> Comentário do revisor: </b> <a class=\"tocSkip\"></a>\n",
        "    \n",
        "- O conjunto de dados foi carregado corretamente usando o separador `\\t`\n",
        "- O import das bibliotecas foi feito de forma correta e em uma célula separada\n",
        "</div>"
      ]
    },
    {
      "cell_type": "code",
      "execution_count": null,
      "metadata": {
        "id": "CwggWKHZRLaP",
        "outputId": "acffa4d8-e5cf-4a75-dcf9-dcc684128a2c"
      },
      "outputs": [
        {
          "data": {
            "text/html": [
              "<div>\n",
              "<style scoped>\n",
              "    .dataframe tbody tr th:only-of-type {\n",
              "        vertical-align: middle;\n",
              "    }\n",
              "\n",
              "    .dataframe tbody tr th {\n",
              "        vertical-align: top;\n",
              "    }\n",
              "\n",
              "    .dataframe thead th {\n",
              "        text-align: right;\n",
              "    }\n",
              "</style>\n",
              "<table border=\"1\" class=\"dataframe\">\n",
              "  <thead>\n",
              "    <tr style=\"text-align: right;\">\n",
              "      <th></th>\n",
              "      <th>EventName</th>\n",
              "      <th>DeviceIDHash</th>\n",
              "      <th>EventTimestamp</th>\n",
              "      <th>ExpId</th>\n",
              "    </tr>\n",
              "  </thead>\n",
              "  <tbody>\n",
              "    <tr>\n",
              "      <th>0</th>\n",
              "      <td>MainScreenAppear</td>\n",
              "      <td>4575588528974610257</td>\n",
              "      <td>1564029816</td>\n",
              "      <td>246</td>\n",
              "    </tr>\n",
              "    <tr>\n",
              "      <th>1</th>\n",
              "      <td>MainScreenAppear</td>\n",
              "      <td>7416695313311560658</td>\n",
              "      <td>1564053102</td>\n",
              "      <td>246</td>\n",
              "    </tr>\n",
              "    <tr>\n",
              "      <th>2</th>\n",
              "      <td>PaymentScreenSuccessful</td>\n",
              "      <td>3518123091307005509</td>\n",
              "      <td>1564054127</td>\n",
              "      <td>248</td>\n",
              "    </tr>\n",
              "    <tr>\n",
              "      <th>3</th>\n",
              "      <td>CartScreenAppear</td>\n",
              "      <td>3518123091307005509</td>\n",
              "      <td>1564054127</td>\n",
              "      <td>248</td>\n",
              "    </tr>\n",
              "    <tr>\n",
              "      <th>4</th>\n",
              "      <td>PaymentScreenSuccessful</td>\n",
              "      <td>6217807653094995999</td>\n",
              "      <td>1564055322</td>\n",
              "      <td>248</td>\n",
              "    </tr>\n",
              "  </tbody>\n",
              "</table>\n",
              "</div>"
            ],
            "text/plain": [
              "                 EventName         DeviceIDHash  EventTimestamp  ExpId\n",
              "0         MainScreenAppear  4575588528974610257      1564029816    246\n",
              "1         MainScreenAppear  7416695313311560658      1564053102    246\n",
              "2  PaymentScreenSuccessful  3518123091307005509      1564054127    248\n",
              "3         CartScreenAppear  3518123091307005509      1564054127    248\n",
              "4  PaymentScreenSuccessful  6217807653094995999      1564055322    248"
            ]
          },
          "execution_count": 243,
          "metadata": {},
          "output_type": "execute_result"
        }
      ],
      "source": [
        "df.head()"
      ]
    },
    {
      "cell_type": "code",
      "execution_count": null,
      "metadata": {
        "id": "9nh-XkrURLaP",
        "outputId": "41701519-1c94-4152-a898-24052392c56f"
      },
      "outputs": [
        {
          "data": {
            "text/plain": [
              "Index(['EventName', 'DeviceIDHash', 'EventTimestamp', 'ExpId'], dtype='object')"
            ]
          },
          "execution_count": 244,
          "metadata": {},
          "output_type": "execute_result"
        }
      ],
      "source": [
        "df.columns"
      ]
    },
    {
      "cell_type": "code",
      "execution_count": null,
      "metadata": {
        "id": "KRbVmYYFRLaP"
      },
      "outputs": [],
      "source": [
        "df = df.rename(columns={'EventName': 'event',\n",
        "    'DeviceIDHash': 'user_id',\n",
        "    'EventTimestamp': 'timestamp',\n",
        "    'ExpId': 'experiment_group'}) # renomeando as colunas para minusculas"
      ]
    },
    {
      "cell_type": "code",
      "execution_count": null,
      "metadata": {
        "id": "vaOSSd4SRLaP",
        "outputId": "d1c082f5-0ede-4581-8928-984a42cae8eb"
      },
      "outputs": [
        {
          "data": {
            "text/plain": [
              "Index(['event', 'user_id', 'timestamp', 'experiment_group'], dtype='object')"
            ]
          },
          "execution_count": 246,
          "metadata": {},
          "output_type": "execute_result"
        }
      ],
      "source": [
        "df.columns #verificando como ficou"
      ]
    },
    {
      "cell_type": "code",
      "execution_count": null,
      "metadata": {
        "id": "AARGSRReRLaP",
        "outputId": "d6405657-1379-447b-a442-dee7d3ed77b7"
      },
      "outputs": [
        {
          "data": {
            "text/html": [
              "<div>\n",
              "<style scoped>\n",
              "    .dataframe tbody tr th:only-of-type {\n",
              "        vertical-align: middle;\n",
              "    }\n",
              "\n",
              "    .dataframe tbody tr th {\n",
              "        vertical-align: top;\n",
              "    }\n",
              "\n",
              "    .dataframe thead th {\n",
              "        text-align: right;\n",
              "    }\n",
              "</style>\n",
              "<table border=\"1\" class=\"dataframe\">\n",
              "  <thead>\n",
              "    <tr style=\"text-align: right;\">\n",
              "      <th></th>\n",
              "      <th>event</th>\n",
              "      <th>user_id</th>\n",
              "      <th>timestamp</th>\n",
              "      <th>experiment_group</th>\n",
              "    </tr>\n",
              "  </thead>\n",
              "  <tbody>\n",
              "    <tr>\n",
              "      <th>0</th>\n",
              "      <td>MainScreenAppear</td>\n",
              "      <td>4575588528974610257</td>\n",
              "      <td>1564029816</td>\n",
              "      <td>246</td>\n",
              "    </tr>\n",
              "    <tr>\n",
              "      <th>1</th>\n",
              "      <td>MainScreenAppear</td>\n",
              "      <td>7416695313311560658</td>\n",
              "      <td>1564053102</td>\n",
              "      <td>246</td>\n",
              "    </tr>\n",
              "    <tr>\n",
              "      <th>2</th>\n",
              "      <td>PaymentScreenSuccessful</td>\n",
              "      <td>3518123091307005509</td>\n",
              "      <td>1564054127</td>\n",
              "      <td>248</td>\n",
              "    </tr>\n",
              "    <tr>\n",
              "      <th>3</th>\n",
              "      <td>CartScreenAppear</td>\n",
              "      <td>3518123091307005509</td>\n",
              "      <td>1564054127</td>\n",
              "      <td>248</td>\n",
              "    </tr>\n",
              "    <tr>\n",
              "      <th>4</th>\n",
              "      <td>PaymentScreenSuccessful</td>\n",
              "      <td>6217807653094995999</td>\n",
              "      <td>1564055322</td>\n",
              "      <td>248</td>\n",
              "    </tr>\n",
              "  </tbody>\n",
              "</table>\n",
              "</div>"
            ],
            "text/plain": [
              "                     event              user_id   timestamp  experiment_group\n",
              "0         MainScreenAppear  4575588528974610257  1564029816               246\n",
              "1         MainScreenAppear  7416695313311560658  1564053102               246\n",
              "2  PaymentScreenSuccessful  3518123091307005509  1564054127               248\n",
              "3         CartScreenAppear  3518123091307005509  1564054127               248\n",
              "4  PaymentScreenSuccessful  6217807653094995999  1564055322               248"
            ]
          },
          "execution_count": 247,
          "metadata": {},
          "output_type": "execute_result"
        }
      ],
      "source": [
        "df.head(5)"
      ]
    },
    {
      "cell_type": "code",
      "execution_count": null,
      "metadata": {
        "id": "2tvL5tvURLaQ",
        "outputId": "2f3a870d-9dae-48f5-8127-a1b7ae8f961a"
      },
      "outputs": [
        {
          "data": {
            "text/plain": [
              "413"
            ]
          },
          "execution_count": 248,
          "metadata": {},
          "output_type": "execute_result"
        }
      ],
      "source": [
        "df.duplicated().sum()"
      ]
    },
    {
      "cell_type": "code",
      "execution_count": null,
      "metadata": {
        "id": "6ljMZpHIRLaQ"
      },
      "outputs": [],
      "source": [
        "df.drop_duplicates(inplace=True)"
      ]
    },
    {
      "cell_type": "code",
      "execution_count": null,
      "metadata": {
        "id": "445jh08sRLaQ"
      },
      "outputs": [],
      "source": [
        "# Converter timestamp para datetime\n",
        "df['datetime'] = pd.to_datetime(df['timestamp'], unit='s')"
      ]
    },
    {
      "cell_type": "code",
      "execution_count": null,
      "metadata": {
        "id": "Ds8duXg_RLaQ",
        "outputId": "a1686bd5-ef6e-45fa-d435-66dd72e71346"
      },
      "outputs": [
        {
          "data": {
            "text/html": [
              "<div>\n",
              "<style scoped>\n",
              "    .dataframe tbody tr th:only-of-type {\n",
              "        vertical-align: middle;\n",
              "    }\n",
              "\n",
              "    .dataframe tbody tr th {\n",
              "        vertical-align: top;\n",
              "    }\n",
              "\n",
              "    .dataframe thead th {\n",
              "        text-align: right;\n",
              "    }\n",
              "</style>\n",
              "<table border=\"1\" class=\"dataframe\">\n",
              "  <thead>\n",
              "    <tr style=\"text-align: right;\">\n",
              "      <th></th>\n",
              "      <th>event</th>\n",
              "      <th>user_id</th>\n",
              "      <th>timestamp</th>\n",
              "      <th>experiment_group</th>\n",
              "      <th>datetime</th>\n",
              "    </tr>\n",
              "  </thead>\n",
              "  <tbody>\n",
              "    <tr>\n",
              "      <th>0</th>\n",
              "      <td>MainScreenAppear</td>\n",
              "      <td>4575588528974610257</td>\n",
              "      <td>1564029816</td>\n",
              "      <td>246</td>\n",
              "      <td>2019-07-25 04:43:36</td>\n",
              "    </tr>\n",
              "    <tr>\n",
              "      <th>1</th>\n",
              "      <td>MainScreenAppear</td>\n",
              "      <td>7416695313311560658</td>\n",
              "      <td>1564053102</td>\n",
              "      <td>246</td>\n",
              "      <td>2019-07-25 11:11:42</td>\n",
              "    </tr>\n",
              "    <tr>\n",
              "      <th>2</th>\n",
              "      <td>PaymentScreenSuccessful</td>\n",
              "      <td>3518123091307005509</td>\n",
              "      <td>1564054127</td>\n",
              "      <td>248</td>\n",
              "      <td>2019-07-25 11:28:47</td>\n",
              "    </tr>\n",
              "    <tr>\n",
              "      <th>3</th>\n",
              "      <td>CartScreenAppear</td>\n",
              "      <td>3518123091307005509</td>\n",
              "      <td>1564054127</td>\n",
              "      <td>248</td>\n",
              "      <td>2019-07-25 11:28:47</td>\n",
              "    </tr>\n",
              "    <tr>\n",
              "      <th>4</th>\n",
              "      <td>PaymentScreenSuccessful</td>\n",
              "      <td>6217807653094995999</td>\n",
              "      <td>1564055322</td>\n",
              "      <td>248</td>\n",
              "      <td>2019-07-25 11:48:42</td>\n",
              "    </tr>\n",
              "    <tr>\n",
              "      <th>...</th>\n",
              "      <td>...</td>\n",
              "      <td>...</td>\n",
              "      <td>...</td>\n",
              "      <td>...</td>\n",
              "      <td>...</td>\n",
              "    </tr>\n",
              "    <tr>\n",
              "      <th>244121</th>\n",
              "      <td>MainScreenAppear</td>\n",
              "      <td>4599628364049201812</td>\n",
              "      <td>1565212345</td>\n",
              "      <td>247</td>\n",
              "      <td>2019-08-07 21:12:25</td>\n",
              "    </tr>\n",
              "    <tr>\n",
              "      <th>244122</th>\n",
              "      <td>MainScreenAppear</td>\n",
              "      <td>5849806612437486590</td>\n",
              "      <td>1565212439</td>\n",
              "      <td>246</td>\n",
              "      <td>2019-08-07 21:13:59</td>\n",
              "    </tr>\n",
              "    <tr>\n",
              "      <th>244123</th>\n",
              "      <td>MainScreenAppear</td>\n",
              "      <td>5746969938801999050</td>\n",
              "      <td>1565212483</td>\n",
              "      <td>246</td>\n",
              "      <td>2019-08-07 21:14:43</td>\n",
              "    </tr>\n",
              "    <tr>\n",
              "      <th>244124</th>\n",
              "      <td>MainScreenAppear</td>\n",
              "      <td>5746969938801999050</td>\n",
              "      <td>1565212498</td>\n",
              "      <td>246</td>\n",
              "      <td>2019-08-07 21:14:58</td>\n",
              "    </tr>\n",
              "    <tr>\n",
              "      <th>244125</th>\n",
              "      <td>OffersScreenAppear</td>\n",
              "      <td>5746969938801999050</td>\n",
              "      <td>1565212517</td>\n",
              "      <td>246</td>\n",
              "      <td>2019-08-07 21:15:17</td>\n",
              "    </tr>\n",
              "  </tbody>\n",
              "</table>\n",
              "<p>243713 rows × 5 columns</p>\n",
              "</div>"
            ],
            "text/plain": [
              "                          event              user_id   timestamp  \\\n",
              "0              MainScreenAppear  4575588528974610257  1564029816   \n",
              "1              MainScreenAppear  7416695313311560658  1564053102   \n",
              "2       PaymentScreenSuccessful  3518123091307005509  1564054127   \n",
              "3              CartScreenAppear  3518123091307005509  1564054127   \n",
              "4       PaymentScreenSuccessful  6217807653094995999  1564055322   \n",
              "...                         ...                  ...         ...   \n",
              "244121         MainScreenAppear  4599628364049201812  1565212345   \n",
              "244122         MainScreenAppear  5849806612437486590  1565212439   \n",
              "244123         MainScreenAppear  5746969938801999050  1565212483   \n",
              "244124         MainScreenAppear  5746969938801999050  1565212498   \n",
              "244125       OffersScreenAppear  5746969938801999050  1565212517   \n",
              "\n",
              "        experiment_group            datetime  \n",
              "0                    246 2019-07-25 04:43:36  \n",
              "1                    246 2019-07-25 11:11:42  \n",
              "2                    248 2019-07-25 11:28:47  \n",
              "3                    248 2019-07-25 11:28:47  \n",
              "4                    248 2019-07-25 11:48:42  \n",
              "...                  ...                 ...  \n",
              "244121               247 2019-08-07 21:12:25  \n",
              "244122               246 2019-08-07 21:13:59  \n",
              "244123               246 2019-08-07 21:14:43  \n",
              "244124               246 2019-08-07 21:14:58  \n",
              "244125               246 2019-08-07 21:15:17  \n",
              "\n",
              "[243713 rows x 5 columns]"
            ]
          },
          "execution_count": 251,
          "metadata": {},
          "output_type": "execute_result"
        }
      ],
      "source": [
        "df"
      ]
    },
    {
      "cell_type": "code",
      "execution_count": null,
      "metadata": {
        "id": "1Bxj4DwgRLaQ"
      },
      "outputs": [],
      "source": [
        "df['date'] = df['datetime'].dt.date"
      ]
    },
    {
      "cell_type": "code",
      "execution_count": null,
      "metadata": {
        "id": "2n_dhckbRLaQ",
        "outputId": "d7ce30b4-d002-4643-cd6f-e8752d912340"
      },
      "outputs": [
        {
          "data": {
            "text/html": [
              "<div>\n",
              "<style scoped>\n",
              "    .dataframe tbody tr th:only-of-type {\n",
              "        vertical-align: middle;\n",
              "    }\n",
              "\n",
              "    .dataframe tbody tr th {\n",
              "        vertical-align: top;\n",
              "    }\n",
              "\n",
              "    .dataframe thead th {\n",
              "        text-align: right;\n",
              "    }\n",
              "</style>\n",
              "<table border=\"1\" class=\"dataframe\">\n",
              "  <thead>\n",
              "    <tr style=\"text-align: right;\">\n",
              "      <th></th>\n",
              "      <th>event</th>\n",
              "      <th>user_id</th>\n",
              "      <th>timestamp</th>\n",
              "      <th>experiment_group</th>\n",
              "      <th>datetime</th>\n",
              "      <th>date</th>\n",
              "    </tr>\n",
              "  </thead>\n",
              "  <tbody>\n",
              "    <tr>\n",
              "      <th>0</th>\n",
              "      <td>MainScreenAppear</td>\n",
              "      <td>4575588528974610257</td>\n",
              "      <td>1564029816</td>\n",
              "      <td>246</td>\n",
              "      <td>2019-07-25 04:43:36</td>\n",
              "      <td>2019-07-25</td>\n",
              "    </tr>\n",
              "    <tr>\n",
              "      <th>1</th>\n",
              "      <td>MainScreenAppear</td>\n",
              "      <td>7416695313311560658</td>\n",
              "      <td>1564053102</td>\n",
              "      <td>246</td>\n",
              "      <td>2019-07-25 11:11:42</td>\n",
              "      <td>2019-07-25</td>\n",
              "    </tr>\n",
              "    <tr>\n",
              "      <th>2</th>\n",
              "      <td>PaymentScreenSuccessful</td>\n",
              "      <td>3518123091307005509</td>\n",
              "      <td>1564054127</td>\n",
              "      <td>248</td>\n",
              "      <td>2019-07-25 11:28:47</td>\n",
              "      <td>2019-07-25</td>\n",
              "    </tr>\n",
              "    <tr>\n",
              "      <th>3</th>\n",
              "      <td>CartScreenAppear</td>\n",
              "      <td>3518123091307005509</td>\n",
              "      <td>1564054127</td>\n",
              "      <td>248</td>\n",
              "      <td>2019-07-25 11:28:47</td>\n",
              "      <td>2019-07-25</td>\n",
              "    </tr>\n",
              "    <tr>\n",
              "      <th>4</th>\n",
              "      <td>PaymentScreenSuccessful</td>\n",
              "      <td>6217807653094995999</td>\n",
              "      <td>1564055322</td>\n",
              "      <td>248</td>\n",
              "      <td>2019-07-25 11:48:42</td>\n",
              "      <td>2019-07-25</td>\n",
              "    </tr>\n",
              "    <tr>\n",
              "      <th>...</th>\n",
              "      <td>...</td>\n",
              "      <td>...</td>\n",
              "      <td>...</td>\n",
              "      <td>...</td>\n",
              "      <td>...</td>\n",
              "      <td>...</td>\n",
              "    </tr>\n",
              "    <tr>\n",
              "      <th>244121</th>\n",
              "      <td>MainScreenAppear</td>\n",
              "      <td>4599628364049201812</td>\n",
              "      <td>1565212345</td>\n",
              "      <td>247</td>\n",
              "      <td>2019-08-07 21:12:25</td>\n",
              "      <td>2019-08-07</td>\n",
              "    </tr>\n",
              "    <tr>\n",
              "      <th>244122</th>\n",
              "      <td>MainScreenAppear</td>\n",
              "      <td>5849806612437486590</td>\n",
              "      <td>1565212439</td>\n",
              "      <td>246</td>\n",
              "      <td>2019-08-07 21:13:59</td>\n",
              "      <td>2019-08-07</td>\n",
              "    </tr>\n",
              "    <tr>\n",
              "      <th>244123</th>\n",
              "      <td>MainScreenAppear</td>\n",
              "      <td>5746969938801999050</td>\n",
              "      <td>1565212483</td>\n",
              "      <td>246</td>\n",
              "      <td>2019-08-07 21:14:43</td>\n",
              "      <td>2019-08-07</td>\n",
              "    </tr>\n",
              "    <tr>\n",
              "      <th>244124</th>\n",
              "      <td>MainScreenAppear</td>\n",
              "      <td>5746969938801999050</td>\n",
              "      <td>1565212498</td>\n",
              "      <td>246</td>\n",
              "      <td>2019-08-07 21:14:58</td>\n",
              "      <td>2019-08-07</td>\n",
              "    </tr>\n",
              "    <tr>\n",
              "      <th>244125</th>\n",
              "      <td>OffersScreenAppear</td>\n",
              "      <td>5746969938801999050</td>\n",
              "      <td>1565212517</td>\n",
              "      <td>246</td>\n",
              "      <td>2019-08-07 21:15:17</td>\n",
              "      <td>2019-08-07</td>\n",
              "    </tr>\n",
              "  </tbody>\n",
              "</table>\n",
              "<p>243713 rows × 6 columns</p>\n",
              "</div>"
            ],
            "text/plain": [
              "                          event              user_id   timestamp  \\\n",
              "0              MainScreenAppear  4575588528974610257  1564029816   \n",
              "1              MainScreenAppear  7416695313311560658  1564053102   \n",
              "2       PaymentScreenSuccessful  3518123091307005509  1564054127   \n",
              "3              CartScreenAppear  3518123091307005509  1564054127   \n",
              "4       PaymentScreenSuccessful  6217807653094995999  1564055322   \n",
              "...                         ...                  ...         ...   \n",
              "244121         MainScreenAppear  4599628364049201812  1565212345   \n",
              "244122         MainScreenAppear  5849806612437486590  1565212439   \n",
              "244123         MainScreenAppear  5746969938801999050  1565212483   \n",
              "244124         MainScreenAppear  5746969938801999050  1565212498   \n",
              "244125       OffersScreenAppear  5746969938801999050  1565212517   \n",
              "\n",
              "        experiment_group            datetime        date  \n",
              "0                    246 2019-07-25 04:43:36  2019-07-25  \n",
              "1                    246 2019-07-25 11:11:42  2019-07-25  \n",
              "2                    248 2019-07-25 11:28:47  2019-07-25  \n",
              "3                    248 2019-07-25 11:28:47  2019-07-25  \n",
              "4                    248 2019-07-25 11:48:42  2019-07-25  \n",
              "...                  ...                 ...         ...  \n",
              "244121               247 2019-08-07 21:12:25  2019-08-07  \n",
              "244122               246 2019-08-07 21:13:59  2019-08-07  \n",
              "244123               246 2019-08-07 21:14:43  2019-08-07  \n",
              "244124               246 2019-08-07 21:14:58  2019-08-07  \n",
              "244125               246 2019-08-07 21:15:17  2019-08-07  \n",
              "\n",
              "[243713 rows x 6 columns]"
            ]
          },
          "execution_count": 253,
          "metadata": {},
          "output_type": "execute_result"
        }
      ],
      "source": [
        "df # nova coluna para data criada"
      ]
    },
    {
      "cell_type": "code",
      "execution_count": null,
      "metadata": {
        "id": "GYRfWZHLRLaQ",
        "outputId": "756997f4-3823-4e89-873a-6079d9f12437"
      },
      "outputs": [
        {
          "name": "stdout",
          "output_type": "stream",
          "text": [
            "<class 'pandas.core.frame.DataFrame'>\n",
            "Int64Index: 243713 entries, 0 to 244125\n",
            "Data columns (total 6 columns):\n",
            " #   Column            Non-Null Count   Dtype         \n",
            "---  ------            --------------   -----         \n",
            " 0   event             243713 non-null  object        \n",
            " 1   user_id           243713 non-null  int64         \n",
            " 2   timestamp         243713 non-null  int64         \n",
            " 3   experiment_group  243713 non-null  int64         \n",
            " 4   datetime          243713 non-null  datetime64[ns]\n",
            " 5   date              243713 non-null  object        \n",
            "dtypes: datetime64[ns](1), int64(3), object(2)\n",
            "memory usage: 35.9 MB\n",
            "None\n"
          ]
        }
      ],
      "source": [
        "print(df.info(memory_usage='deep')) # verificando tamanho do arquivo"
      ]
    },
    {
      "cell_type": "code",
      "execution_count": null,
      "metadata": {
        "id": "xGyvL6ZTRLaR"
      },
      "outputs": [],
      "source": [
        "df['timestamp'] = pd.to_datetime(df['timestamp'])\n",
        "df['date'] = pd.to_datetime(df['date']) # convertendo as colunas para datetime"
      ]
    },
    {
      "cell_type": "code",
      "execution_count": null,
      "metadata": {
        "id": "ulT5iOUdRLaR",
        "outputId": "49c7085e-3592-49a5-9e7e-1965524ab818"
      },
      "outputs": [
        {
          "data": {
            "text/html": [
              "<div>\n",
              "<style scoped>\n",
              "    .dataframe tbody tr th:only-of-type {\n",
              "        vertical-align: middle;\n",
              "    }\n",
              "\n",
              "    .dataframe tbody tr th {\n",
              "        vertical-align: top;\n",
              "    }\n",
              "\n",
              "    .dataframe thead th {\n",
              "        text-align: right;\n",
              "    }\n",
              "</style>\n",
              "<table border=\"1\" class=\"dataframe\">\n",
              "  <thead>\n",
              "    <tr style=\"text-align: right;\">\n",
              "      <th></th>\n",
              "      <th>event</th>\n",
              "      <th>user_id</th>\n",
              "      <th>timestamp</th>\n",
              "      <th>experiment_group</th>\n",
              "      <th>datetime</th>\n",
              "      <th>date</th>\n",
              "    </tr>\n",
              "  </thead>\n",
              "  <tbody>\n",
              "    <tr>\n",
              "      <th>0</th>\n",
              "      <td>MainScreenAppear</td>\n",
              "      <td>4575588528974610257</td>\n",
              "      <td>1970-01-01 00:00:01.564029816</td>\n",
              "      <td>246</td>\n",
              "      <td>2019-07-25 04:43:36</td>\n",
              "      <td>2019-07-25</td>\n",
              "    </tr>\n",
              "    <tr>\n",
              "      <th>1</th>\n",
              "      <td>MainScreenAppear</td>\n",
              "      <td>7416695313311560658</td>\n",
              "      <td>1970-01-01 00:00:01.564053102</td>\n",
              "      <td>246</td>\n",
              "      <td>2019-07-25 11:11:42</td>\n",
              "      <td>2019-07-25</td>\n",
              "    </tr>\n",
              "    <tr>\n",
              "      <th>2</th>\n",
              "      <td>PaymentScreenSuccessful</td>\n",
              "      <td>3518123091307005509</td>\n",
              "      <td>1970-01-01 00:00:01.564054127</td>\n",
              "      <td>248</td>\n",
              "      <td>2019-07-25 11:28:47</td>\n",
              "      <td>2019-07-25</td>\n",
              "    </tr>\n",
              "    <tr>\n",
              "      <th>3</th>\n",
              "      <td>CartScreenAppear</td>\n",
              "      <td>3518123091307005509</td>\n",
              "      <td>1970-01-01 00:00:01.564054127</td>\n",
              "      <td>248</td>\n",
              "      <td>2019-07-25 11:28:47</td>\n",
              "      <td>2019-07-25</td>\n",
              "    </tr>\n",
              "    <tr>\n",
              "      <th>4</th>\n",
              "      <td>PaymentScreenSuccessful</td>\n",
              "      <td>6217807653094995999</td>\n",
              "      <td>1970-01-01 00:00:01.564055322</td>\n",
              "      <td>248</td>\n",
              "      <td>2019-07-25 11:48:42</td>\n",
              "      <td>2019-07-25</td>\n",
              "    </tr>\n",
              "    <tr>\n",
              "      <th>...</th>\n",
              "      <td>...</td>\n",
              "      <td>...</td>\n",
              "      <td>...</td>\n",
              "      <td>...</td>\n",
              "      <td>...</td>\n",
              "      <td>...</td>\n",
              "    </tr>\n",
              "    <tr>\n",
              "      <th>244121</th>\n",
              "      <td>MainScreenAppear</td>\n",
              "      <td>4599628364049201812</td>\n",
              "      <td>1970-01-01 00:00:01.565212345</td>\n",
              "      <td>247</td>\n",
              "      <td>2019-08-07 21:12:25</td>\n",
              "      <td>2019-08-07</td>\n",
              "    </tr>\n",
              "    <tr>\n",
              "      <th>244122</th>\n",
              "      <td>MainScreenAppear</td>\n",
              "      <td>5849806612437486590</td>\n",
              "      <td>1970-01-01 00:00:01.565212439</td>\n",
              "      <td>246</td>\n",
              "      <td>2019-08-07 21:13:59</td>\n",
              "      <td>2019-08-07</td>\n",
              "    </tr>\n",
              "    <tr>\n",
              "      <th>244123</th>\n",
              "      <td>MainScreenAppear</td>\n",
              "      <td>5746969938801999050</td>\n",
              "      <td>1970-01-01 00:00:01.565212483</td>\n",
              "      <td>246</td>\n",
              "      <td>2019-08-07 21:14:43</td>\n",
              "      <td>2019-08-07</td>\n",
              "    </tr>\n",
              "    <tr>\n",
              "      <th>244124</th>\n",
              "      <td>MainScreenAppear</td>\n",
              "      <td>5746969938801999050</td>\n",
              "      <td>1970-01-01 00:00:01.565212498</td>\n",
              "      <td>246</td>\n",
              "      <td>2019-08-07 21:14:58</td>\n",
              "      <td>2019-08-07</td>\n",
              "    </tr>\n",
              "    <tr>\n",
              "      <th>244125</th>\n",
              "      <td>OffersScreenAppear</td>\n",
              "      <td>5746969938801999050</td>\n",
              "      <td>1970-01-01 00:00:01.565212517</td>\n",
              "      <td>246</td>\n",
              "      <td>2019-08-07 21:15:17</td>\n",
              "      <td>2019-08-07</td>\n",
              "    </tr>\n",
              "  </tbody>\n",
              "</table>\n",
              "<p>243713 rows × 6 columns</p>\n",
              "</div>"
            ],
            "text/plain": [
              "                          event              user_id  \\\n",
              "0              MainScreenAppear  4575588528974610257   \n",
              "1              MainScreenAppear  7416695313311560658   \n",
              "2       PaymentScreenSuccessful  3518123091307005509   \n",
              "3              CartScreenAppear  3518123091307005509   \n",
              "4       PaymentScreenSuccessful  6217807653094995999   \n",
              "...                         ...                  ...   \n",
              "244121         MainScreenAppear  4599628364049201812   \n",
              "244122         MainScreenAppear  5849806612437486590   \n",
              "244123         MainScreenAppear  5746969938801999050   \n",
              "244124         MainScreenAppear  5746969938801999050   \n",
              "244125       OffersScreenAppear  5746969938801999050   \n",
              "\n",
              "                           timestamp  experiment_group            datetime  \\\n",
              "0      1970-01-01 00:00:01.564029816               246 2019-07-25 04:43:36   \n",
              "1      1970-01-01 00:00:01.564053102               246 2019-07-25 11:11:42   \n",
              "2      1970-01-01 00:00:01.564054127               248 2019-07-25 11:28:47   \n",
              "3      1970-01-01 00:00:01.564054127               248 2019-07-25 11:28:47   \n",
              "4      1970-01-01 00:00:01.564055322               248 2019-07-25 11:48:42   \n",
              "...                              ...               ...                 ...   \n",
              "244121 1970-01-01 00:00:01.565212345               247 2019-08-07 21:12:25   \n",
              "244122 1970-01-01 00:00:01.565212439               246 2019-08-07 21:13:59   \n",
              "244123 1970-01-01 00:00:01.565212483               246 2019-08-07 21:14:43   \n",
              "244124 1970-01-01 00:00:01.565212498               246 2019-08-07 21:14:58   \n",
              "244125 1970-01-01 00:00:01.565212517               246 2019-08-07 21:15:17   \n",
              "\n",
              "             date  \n",
              "0      2019-07-25  \n",
              "1      2019-07-25  \n",
              "2      2019-07-25  \n",
              "3      2019-07-25  \n",
              "4      2019-07-25  \n",
              "...           ...  \n",
              "244121 2019-08-07  \n",
              "244122 2019-08-07  \n",
              "244123 2019-08-07  \n",
              "244124 2019-08-07  \n",
              "244125 2019-08-07  \n",
              "\n",
              "[243713 rows x 6 columns]"
            ]
          },
          "execution_count": 256,
          "metadata": {},
          "output_type": "execute_result"
        }
      ],
      "source": [
        "df"
      ]
    },
    {
      "cell_type": "code",
      "execution_count": null,
      "metadata": {
        "id": "znteY9nrRLaR",
        "outputId": "8ae7383e-dfc2-44f2-d666-f9d3e307604e"
      },
      "outputs": [
        {
          "name": "stdout",
          "output_type": "stream",
          "text": [
            "<class 'pandas.core.frame.DataFrame'>\n",
            "Int64Index: 243713 entries, 0 to 244125\n",
            "Data columns (total 6 columns):\n",
            " #   Column            Non-Null Count   Dtype         \n",
            "---  ------            --------------   -----         \n",
            " 0   event             243713 non-null  object        \n",
            " 1   user_id           243713 non-null  int64         \n",
            " 2   timestamp         243713 non-null  datetime64[ns]\n",
            " 3   experiment_group  243713 non-null  int64         \n",
            " 4   datetime          243713 non-null  datetime64[ns]\n",
            " 5   date              243713 non-null  datetime64[ns]\n",
            "dtypes: datetime64[ns](3), int64(2), object(1)\n",
            "memory usage: 28.4 MB\n",
            "None\n"
          ]
        }
      ],
      "source": [
        "print(df.info(memory_usage='deep')) # verificando se reduziu tamanho do arquivo"
      ]
    },
    {
      "cell_type": "code",
      "execution_count": null,
      "metadata": {
        "id": "_MWB6Fo4RLaR",
        "outputId": "44a10e6f-1ff1-4b87-9ddd-32275513183b"
      },
      "outputs": [
        {
          "name": "stdout",
          "output_type": "stream",
          "text": [
            "event               0\n",
            "user_id             0\n",
            "timestamp           0\n",
            "experiment_group    0\n",
            "datetime            0\n",
            "date                0\n",
            "dtype: int64\n"
          ]
        }
      ],
      "source": [
        "print(df.isna().sum()) # verificando valores ausentes"
      ]
    },
    {
      "cell_type": "markdown",
      "metadata": {
        "id": "GSNDzhPfRLaR"
      },
      "source": [
        "<div class=\"alert alert-block alert-success\">\n",
        "<b> Comentário do revisor: </b> <a class=\"tocSkip\"></a>\n",
        "\n",
        "- Os nomes das colunas foram convertidos para seguir o padrão `snake_case`\n",
        "- A hora foi extraída a partir do timestamp\n",
        "</div>"
      ]
    },
    {
      "cell_type": "markdown",
      "metadata": {
        "id": "HN772tUfRLaR"
      },
      "source": [
        "3. Estudando e Verificando os dados"
      ]
    },
    {
      "cell_type": "markdown",
      "metadata": {
        "id": "xYSjYkotRLaS"
      },
      "source": [
        "Quantos eventos ficam nos registros?"
      ]
    },
    {
      "cell_type": "code",
      "execution_count": null,
      "metadata": {
        "id": "-As_9UF8RLaS"
      },
      "outputs": [],
      "source": [
        "total_events = df.shape[0]"
      ]
    },
    {
      "cell_type": "code",
      "execution_count": null,
      "metadata": {
        "id": "NHd8_GPmRLaS",
        "outputId": "07fe8730-bd9f-4896-acab-e45b3cafdc2a"
      },
      "outputs": [
        {
          "name": "stdout",
          "output_type": "stream",
          "text": [
            "243713\n"
          ]
        }
      ],
      "source": [
        "print(total_events)"
      ]
    },
    {
      "cell_type": "markdown",
      "metadata": {
        "id": "-ojfZzZuRLaS"
      },
      "source": [
        "Quantos usuários ficam nos registros?"
      ]
    },
    {
      "cell_type": "code",
      "execution_count": null,
      "metadata": {
        "id": "-Q84wwrORLaS"
      },
      "outputs": [],
      "source": [
        "total_users = df['user_id'].nunique()"
      ]
    },
    {
      "cell_type": "code",
      "execution_count": null,
      "metadata": {
        "id": "dhNoYtLdRLaS",
        "outputId": "7906c93a-42da-4b96-abe9-eb4f071e56bb"
      },
      "outputs": [
        {
          "data": {
            "text/plain": [
              "7551"
            ]
          },
          "execution_count": 262,
          "metadata": {},
          "output_type": "execute_result"
        }
      ],
      "source": [
        "total_users"
      ]
    },
    {
      "cell_type": "markdown",
      "metadata": {
        "id": "P5V3hUbHRLaX"
      },
      "source": [
        "Qual é o número médio de eventos por usuário?"
      ]
    },
    {
      "cell_type": "code",
      "execution_count": null,
      "metadata": {
        "id": "Np2qggv2RLaY"
      },
      "outputs": [],
      "source": [
        "avg_events_per_user = total_events / total_users"
      ]
    },
    {
      "cell_type": "code",
      "execution_count": null,
      "metadata": {
        "id": "rrHRF9a3RLaY",
        "outputId": "433038a9-7aff-49ec-80a9-f469a9498165"
      },
      "outputs": [
        {
          "data": {
            "text/plain": [
              "32.27559263673685"
            ]
          },
          "execution_count": 264,
          "metadata": {},
          "output_type": "execute_result"
        }
      ],
      "source": [
        "avg_events_per_user"
      ]
    },
    {
      "cell_type": "markdown",
      "metadata": {
        "id": "kHD5zlRBRLaY"
      },
      "source": [
        "<div class=\"alert alert-block alert-success\">\n",
        "<b> Comentário do revisor: </b> <a class=\"tocSkip\"></a>\n",
        "  \n",
        "As estatísticas dos usuários foram analisadas\n",
        "</div>"
      ]
    },
    {
      "cell_type": "markdown",
      "metadata": {
        "id": "Jl_k07rRRLaY"
      },
      "source": [
        "Qual é o período de tempo que os dados cobrem? Encontre as datas máxima e mínima."
      ]
    },
    {
      "cell_type": "code",
      "execution_count": null,
      "metadata": {
        "id": "CM7iPQdFRLaY",
        "outputId": "0066be47-aeb4-48bf-a88b-8e7c3779e0f2"
      },
      "outputs": [
        {
          "data": {
            "text/plain": [
              "count                  243713\n",
              "unique                     14\n",
              "top       2019-08-01 00:00:00\n",
              "freq                    36141\n",
              "first     2019-07-25 00:00:00\n",
              "last      2019-08-07 00:00:00\n",
              "Name: date, dtype: object"
            ]
          },
          "execution_count": 265,
          "metadata": {},
          "output_type": "execute_result"
        }
      ],
      "source": [
        "df['date'].describe()"
      ]
    },
    {
      "cell_type": "markdown",
      "metadata": {
        "id": "XBkoM_ETRLaZ"
      },
      "source": [
        "Desenhe um histograma por data e hora. Você pode ter certeza de que possui os dados igualmente completos para todo o período? Os eventos mais antigos podem acabar aparecendo nos diários de alguns usuários por motivos técnicos, e isso pode distorcer o quadro geral. Encontre o momento em que os dados começam a ser completos e ignore a seção anterior. Qual período os dados realmente representam?"
      ]
    },
    {
      "cell_type": "code",
      "execution_count": null,
      "metadata": {
        "id": "--ysc_0kRLaZ",
        "outputId": "b6a68f20-e7b4-4900-c618-5805f23267ff"
      },
      "outputs": [
        {
          "data": {
            "text/plain": [
              "Timestamp('2019-07-25 00:00:00')"
            ]
          },
          "execution_count": 266,
          "metadata": {},
          "output_type": "execute_result"
        }
      ],
      "source": [
        "df['date'].min() # data minima"
      ]
    },
    {
      "cell_type": "code",
      "execution_count": null,
      "metadata": {
        "id": "Wm8NFTX3RLaZ",
        "outputId": "dabcd4a3-2a86-4dd3-b505-81fe6c3a5e48"
      },
      "outputs": [
        {
          "data": {
            "text/plain": [
              "Timestamp('2019-08-07 00:00:00')"
            ]
          },
          "execution_count": 267,
          "metadata": {},
          "output_type": "execute_result"
        }
      ],
      "source": [
        "df['date'].max() # data maxima"
      ]
    },
    {
      "cell_type": "code",
      "execution_count": null,
      "metadata": {
        "id": "aj70VUTORLaZ",
        "outputId": "9c1b0ede-618d-49e9-add9-9a7eaec0cdc1"
      },
      "outputs": [
        {
          "data": {
            "text/plain": [
              "Timestamp('2019-08-03 21:33:56.735012096')"
            ]
          },
          "execution_count": 268,
          "metadata": {},
          "output_type": "execute_result"
        }
      ],
      "source": [
        "df['date'].mean()"
      ]
    },
    {
      "cell_type": "markdown",
      "metadata": {
        "id": "pk3w5IzzRLaZ"
      },
      "source": [
        "Os dados cobrem periodo entre 25 de julho de 2019 a 07 de agosto de 2019."
      ]
    },
    {
      "cell_type": "code",
      "execution_count": null,
      "metadata": {
        "id": "I6g2MEbrRLaZ",
        "outputId": "d0d3f804-2d6c-4088-dc20-bbb17ce05e77"
      },
      "outputs": [
        {
          "data": {
            "text/plain": [
              "2019-07-25        9\n",
              "2019-07-26       31\n",
              "2019-07-27       55\n",
              "2019-07-28      105\n",
              "2019-07-29      184\n",
              "2019-07-30      412\n",
              "2019-07-31     2030\n",
              "2019-08-01    36141\n",
              "2019-08-02    35554\n",
              "2019-08-03    33282\n",
              "2019-08-04    32968\n",
              "2019-08-05    36058\n",
              "2019-08-06    35788\n",
              "2019-08-07    31096\n",
              "Name: date, dtype: int64"
            ]
          },
          "execution_count": 269,
          "metadata": {},
          "output_type": "execute_result"
        }
      ],
      "source": [
        "df['date'].value_counts().sort_index()"
      ]
    },
    {
      "cell_type": "code",
      "execution_count": null,
      "metadata": {
        "id": "LKnjNt7hRLaa",
        "outputId": "7218ced7-2a4f-455c-e155-bc9b15fa534e"
      },
      "outputs": [
        {
          "data": {
            "image/png": "[encoded data removed]",
            "text/plain": [
              "<Figure size 1800x1200 with 1 Axes>"
            ]
          },
          "metadata": {},
          "output_type": "display_data"
        }
      ],
      "source": [
        "# Histograma\n",
        "df['date'].hist(bins=30, figsize=(18,12), color = 'orange')\n",
        "plt.title('Distribuição de Eventos por Data')\n",
        "plt.xlabel('Data')\n",
        "plt.ylabel('Contagem de Eventos')\n",
        "plt.show()"
      ]
    },
    {
      "cell_type": "code",
      "execution_count": null,
      "metadata": {
        "id": "TKlXFWFlRLaa",
        "outputId": "e2fb5f87-15ec-4b08-ef17-232153ff59f9"
      },
      "outputs": [
        {
          "data": {
            "text/plain": [
              "count                  243713\n",
              "unique                 176654\n",
              "top       2019-08-01 14:40:35\n",
              "freq                        9\n",
              "first     2019-07-25 04:43:36\n",
              "last      2019-08-07 21:15:17\n",
              "Name: datetime, dtype: object"
            ]
          },
          "execution_count": 271,
          "metadata": {},
          "output_type": "execute_result"
        }
      ],
      "source": [
        "df['datetime'].describe()"
      ]
    },
    {
      "cell_type": "code",
      "execution_count": null,
      "metadata": {
        "id": "DDdd73byRLaa",
        "outputId": "78c8d44b-7b43-4fca-e0b2-d552b3067717"
      },
      "outputs": [
        {
          "data": {
            "text/plain": [
              "Timestamp('2019-08-07 21:15:17')"
            ]
          },
          "execution_count": 272,
          "metadata": {},
          "output_type": "execute_result"
        }
      ],
      "source": [
        "df['datetime'].max()"
      ]
    },
    {
      "cell_type": "code",
      "execution_count": null,
      "metadata": {
        "id": "HDE2wj2hRLaa",
        "outputId": "d01ab82c-61b2-41ef-a4a7-c08c4e1a7e58"
      },
      "outputs": [
        {
          "data": {
            "text/plain": [
              "Timestamp('2019-07-25 04:43:36')"
            ]
          },
          "execution_count": 273,
          "metadata": {},
          "output_type": "execute_result"
        }
      ],
      "source": [
        "df['datetime'].min()"
      ]
    },
    {
      "cell_type": "code",
      "execution_count": null,
      "metadata": {
        "id": "XOGcyBwyRLaa",
        "outputId": "770361a7-1350-4f35-f776-2b6d02638c35"
      },
      "outputs": [
        {
          "data": {
            "text/plain": [
              "Timestamp('2019-08-04 10:19:17.987665920')"
            ]
          },
          "execution_count": 274,
          "metadata": {},
          "output_type": "execute_result"
        }
      ],
      "source": [
        "df['datetime'].mean()"
      ]
    },
    {
      "cell_type": "code",
      "execution_count": null,
      "metadata": {
        "id": "N4lsAxX1RLab",
        "outputId": "5d169be9-8173-4002-9968-f9dbf7408205"
      },
      "outputs": [
        {
          "data": {
            "text/html": [
              "<div>\n",
              "<style scoped>\n",
              "    .dataframe tbody tr th:only-of-type {\n",
              "        vertical-align: middle;\n",
              "    }\n",
              "\n",
              "    .dataframe tbody tr th {\n",
              "        vertical-align: top;\n",
              "    }\n",
              "\n",
              "    .dataframe thead th {\n",
              "        text-align: right;\n",
              "    }\n",
              "</style>\n",
              "<table border=\"1\" class=\"dataframe\">\n",
              "  <thead>\n",
              "    <tr style=\"text-align: right;\">\n",
              "      <th></th>\n",
              "      <th>index</th>\n",
              "      <th>datetime</th>\n",
              "    </tr>\n",
              "  </thead>\n",
              "  <tbody>\n",
              "    <tr>\n",
              "      <th>0</th>\n",
              "      <td>2019-08-01 14:40:35</td>\n",
              "      <td>9</td>\n",
              "    </tr>\n",
              "    <tr>\n",
              "      <th>1</th>\n",
              "      <td>2019-08-04 16:23:19</td>\n",
              "      <td>9</td>\n",
              "    </tr>\n",
              "    <tr>\n",
              "      <th>2</th>\n",
              "      <td>2019-08-07 15:24:29</td>\n",
              "      <td>8</td>\n",
              "    </tr>\n",
              "    <tr>\n",
              "      <th>3</th>\n",
              "      <td>2019-08-07 11:18:41</td>\n",
              "      <td>8</td>\n",
              "    </tr>\n",
              "    <tr>\n",
              "      <th>4</th>\n",
              "      <td>2019-08-04 09:44:06</td>\n",
              "      <td>8</td>\n",
              "    </tr>\n",
              "    <tr>\n",
              "      <th>...</th>\n",
              "      <td>...</td>\n",
              "      <td>...</td>\n",
              "    </tr>\n",
              "    <tr>\n",
              "      <th>176649</th>\n",
              "      <td>2019-08-04 14:51:14</td>\n",
              "      <td>1</td>\n",
              "    </tr>\n",
              "    <tr>\n",
              "      <th>176650</th>\n",
              "      <td>2019-08-03 19:18:42</td>\n",
              "      <td>1</td>\n",
              "    </tr>\n",
              "    <tr>\n",
              "      <th>176651</th>\n",
              "      <td>2019-08-05 12:55:27</td>\n",
              "      <td>1</td>\n",
              "    </tr>\n",
              "    <tr>\n",
              "      <th>176652</th>\n",
              "      <td>2019-08-02 01:47:04</td>\n",
              "      <td>1</td>\n",
              "    </tr>\n",
              "    <tr>\n",
              "      <th>176653</th>\n",
              "      <td>2019-08-03 16:55:22</td>\n",
              "      <td>1</td>\n",
              "    </tr>\n",
              "  </tbody>\n",
              "</table>\n",
              "<p>176654 rows × 2 columns</p>\n",
              "</div>"
            ],
            "text/plain": [
              "                     index  datetime\n",
              "0      2019-08-01 14:40:35         9\n",
              "1      2019-08-04 16:23:19         9\n",
              "2      2019-08-07 15:24:29         8\n",
              "3      2019-08-07 11:18:41         8\n",
              "4      2019-08-04 09:44:06         8\n",
              "...                    ...       ...\n",
              "176649 2019-08-04 14:51:14         1\n",
              "176650 2019-08-03 19:18:42         1\n",
              "176651 2019-08-05 12:55:27         1\n",
              "176652 2019-08-02 01:47:04         1\n",
              "176653 2019-08-03 16:55:22         1\n",
              "\n",
              "[176654 rows x 2 columns]"
            ]
          },
          "execution_count": 275,
          "metadata": {},
          "output_type": "execute_result"
        }
      ],
      "source": [
        "df['datetime'].value_counts().reset_index()"
      ]
    },
    {
      "cell_type": "code",
      "execution_count": null,
      "metadata": {
        "id": "Lu9WKey0RLab",
        "outputId": "6b7f97c5-2a17-4f74-d391-8f1090f4f326"
      },
      "outputs": [
        {
          "data": {
            "text/plain": [
              "2019-07-25 04:43:36    1\n",
              "2019-07-25 11:11:42    1\n",
              "2019-07-25 11:28:47    2\n",
              "2019-07-25 11:48:42    1\n",
              "2019-07-25 11:48:43    1\n",
              "                      ..\n",
              "2019-08-07 21:12:25    1\n",
              "2019-08-07 21:13:59    1\n",
              "2019-08-07 21:14:43    1\n",
              "2019-08-07 21:14:58    1\n",
              "2019-08-07 21:15:17    1\n",
              "Name: datetime, Length: 176654, dtype: int64"
            ]
          },
          "execution_count": 276,
          "metadata": {},
          "output_type": "execute_result"
        }
      ],
      "source": [
        "df['datetime'].value_counts().sort_index()"
      ]
    },
    {
      "cell_type": "markdown",
      "metadata": {
        "id": "NowiwTgMRLab"
      },
      "source": [
        "Os dados mais consistentes estao entre 1/8 e 7/8, segunda semana dos eventos."
      ]
    },
    {
      "cell_type": "code",
      "execution_count": null,
      "metadata": {
        "id": "n6yL7iv1RLab"
      },
      "outputs": [],
      "source": [
        "df['hora'] = df['datetime'].dt.hour # Extrai apenas a hora (0 a 23) dos dados"
      ]
    },
    {
      "cell_type": "code",
      "execution_count": null,
      "metadata": {
        "id": "AW3vA10nRLab",
        "outputId": "3d3873ab-c45a-464f-a6dd-a8f89bd8dea5"
      },
      "outputs": [
        {
          "data": {
            "text/plain": [
              "0      1487\n",
              "1      1986\n",
              "2      2785\n",
              "3      4345\n",
              "4      6162\n",
              "5      8545\n",
              "6     10089\n",
              "7     11292\n",
              "8     13142\n",
              "9     14740\n",
              "10    14517\n",
              "11    16358\n",
              "12    15002\n",
              "13    15711\n",
              "14    18109\n",
              "15    18051\n",
              "16    16994\n",
              "17    15579\n",
              "18    12996\n",
              "19    11260\n",
              "20     7089\n",
              "21     4243\n",
              "22     2036\n",
              "23     1195\n",
              "Name: hora, dtype: int64"
            ]
          },
          "execution_count": 278,
          "metadata": {},
          "output_type": "execute_result"
        }
      ],
      "source": [
        "df['hora'].value_counts().sort_index() # contando todas os eventos por hora (0 a 23)"
      ]
    },
    {
      "cell_type": "code",
      "execution_count": null,
      "metadata": {
        "id": "lJ8Q0U0BRLab",
        "outputId": "fc300334-fdb8-49fe-cf8d-07809effeeb8"
      },
      "outputs": [
        {
          "data": {
            "text/plain": [
              "14    18109\n",
              "15    18051\n",
              "16    16994\n",
              "11    16358\n",
              "13    15711\n",
              "Name: hora, dtype: int64"
            ]
          },
          "execution_count": 279,
          "metadata": {},
          "output_type": "execute_result"
        }
      ],
      "source": [
        "df['hora'].value_counts().head(5) # ordenando por hora (0 a 23) por ordem decrescente (top 5)"
      ]
    },
    {
      "cell_type": "markdown",
      "metadata": {
        "id": "xQsL6NZ5RLac"
      },
      "source": [
        "Horas 14, 15 e 16 sao as com mais atividade"
      ]
    },
    {
      "cell_type": "code",
      "execution_count": null,
      "metadata": {
        "id": "bnp9KcHGRLac",
        "outputId": "544b13c9-d198-4aad-b6c4-621b3bc580ea"
      },
      "outputs": [
        {
          "data": {
            "image/png": "[encoded data removed]",
            "text/plain": [
              "<Figure size 1200x600 with 1 Axes>"
            ]
          },
          "metadata": {},
          "output_type": "display_data"
        }
      ],
      "source": [
        "# Plotando o histograma\n",
        "df['hora'].hist(bins=24, figsize=(12, 6), edgecolor='black', color= 'violet')\n",
        "plt.title('Distribuição de Eventos por Hora')\n",
        "plt.xlabel('Hora do Dia')\n",
        "plt.ylabel('Contagem de Eventos')\n",
        "plt.xticks(range(24))  # Define os ticks do eixo X para cada hora\n",
        "plt.grid(True)\n",
        "plt.show()\n"
      ]
    },
    {
      "cell_type": "markdown",
      "metadata": {
        "id": "6Au9_a0cRLac"
      },
      "source": [
        "<div class=\"alert alert-block alert-success\">\n",
        "<b> Comentário do revisor: </b> <a class=\"tocSkip\"></a>\n",
        "  \n",
        "- O número de eventos ao longo dos dias foi analisado\n",
        "</div>"
      ]
    },
    {
      "cell_type": "code",
      "execution_count": null,
      "metadata": {
        "id": "_6aO3KFqRLac"
      },
      "outputs": [],
      "source": [
        "start_date = pd.to_datetime('2019-08-01')"
      ]
    },
    {
      "cell_type": "code",
      "execution_count": null,
      "metadata": {
        "id": "pEK_1TIbRLac",
        "outputId": "77f15bdd-23f5-47ae-b309-8e317858e2fb"
      },
      "outputs": [
        {
          "data": {
            "text/plain": [
              "Timestamp('2019-08-01 00:00:00')"
            ]
          },
          "execution_count": 282,
          "metadata": {},
          "output_type": "execute_result"
        }
      ],
      "source": [
        "start_date"
      ]
    },
    {
      "cell_type": "code",
      "execution_count": null,
      "metadata": {
        "id": "qXH0NRyzRLad"
      },
      "outputs": [],
      "source": [
        "df_n = df[df['date'] >= start_date]"
      ]
    },
    {
      "cell_type": "code",
      "execution_count": null,
      "metadata": {
        "id": "OQsIxEUrRLad",
        "outputId": "666a123d-1085-421c-9ef5-7d4de53485f8"
      },
      "outputs": [
        {
          "data": {
            "text/html": [
              "<div>\n",
              "<style scoped>\n",
              "    .dataframe tbody tr th:only-of-type {\n",
              "        vertical-align: middle;\n",
              "    }\n",
              "\n",
              "    .dataframe tbody tr th {\n",
              "        vertical-align: top;\n",
              "    }\n",
              "\n",
              "    .dataframe thead th {\n",
              "        text-align: right;\n",
              "    }\n",
              "</style>\n",
              "<table border=\"1\" class=\"dataframe\">\n",
              "  <thead>\n",
              "    <tr style=\"text-align: right;\">\n",
              "      <th></th>\n",
              "      <th>event</th>\n",
              "      <th>user_id</th>\n",
              "      <th>timestamp</th>\n",
              "      <th>experiment_group</th>\n",
              "      <th>datetime</th>\n",
              "      <th>date</th>\n",
              "      <th>hora</th>\n",
              "    </tr>\n",
              "  </thead>\n",
              "  <tbody>\n",
              "    <tr>\n",
              "      <th>2828</th>\n",
              "      <td>Tutorial</td>\n",
              "      <td>3737462046622621720</td>\n",
              "      <td>1970-01-01 00:00:01.564618048</td>\n",
              "      <td>246</td>\n",
              "      <td>2019-08-01 00:07:28</td>\n",
              "      <td>2019-08-01</td>\n",
              "      <td>0</td>\n",
              "    </tr>\n",
              "    <tr>\n",
              "      <th>2829</th>\n",
              "      <td>MainScreenAppear</td>\n",
              "      <td>3737462046622621720</td>\n",
              "      <td>1970-01-01 00:00:01.564618080</td>\n",
              "      <td>246</td>\n",
              "      <td>2019-08-01 00:08:00</td>\n",
              "      <td>2019-08-01</td>\n",
              "      <td>0</td>\n",
              "    </tr>\n",
              "    <tr>\n",
              "      <th>2830</th>\n",
              "      <td>MainScreenAppear</td>\n",
              "      <td>3737462046622621720</td>\n",
              "      <td>1970-01-01 00:00:01.564618135</td>\n",
              "      <td>246</td>\n",
              "      <td>2019-08-01 00:08:55</td>\n",
              "      <td>2019-08-01</td>\n",
              "      <td>0</td>\n",
              "    </tr>\n",
              "    <tr>\n",
              "      <th>2831</th>\n",
              "      <td>OffersScreenAppear</td>\n",
              "      <td>3737462046622621720</td>\n",
              "      <td>1970-01-01 00:00:01.564618138</td>\n",
              "      <td>246</td>\n",
              "      <td>2019-08-01 00:08:58</td>\n",
              "      <td>2019-08-01</td>\n",
              "      <td>0</td>\n",
              "    </tr>\n",
              "    <tr>\n",
              "      <th>2832</th>\n",
              "      <td>MainScreenAppear</td>\n",
              "      <td>1433840883824088890</td>\n",
              "      <td>1970-01-01 00:00:01.564618139</td>\n",
              "      <td>247</td>\n",
              "      <td>2019-08-01 00:08:59</td>\n",
              "      <td>2019-08-01</td>\n",
              "      <td>0</td>\n",
              "    </tr>\n",
              "    <tr>\n",
              "      <th>...</th>\n",
              "      <td>...</td>\n",
              "      <td>...</td>\n",
              "      <td>...</td>\n",
              "      <td>...</td>\n",
              "      <td>...</td>\n",
              "      <td>...</td>\n",
              "      <td>...</td>\n",
              "    </tr>\n",
              "    <tr>\n",
              "      <th>244121</th>\n",
              "      <td>MainScreenAppear</td>\n",
              "      <td>4599628364049201812</td>\n",
              "      <td>1970-01-01 00:00:01.565212345</td>\n",
              "      <td>247</td>\n",
              "      <td>2019-08-07 21:12:25</td>\n",
              "      <td>2019-08-07</td>\n",
              "      <td>21</td>\n",
              "    </tr>\n",
              "    <tr>\n",
              "      <th>244122</th>\n",
              "      <td>MainScreenAppear</td>\n",
              "      <td>5849806612437486590</td>\n",
              "      <td>1970-01-01 00:00:01.565212439</td>\n",
              "      <td>246</td>\n",
              "      <td>2019-08-07 21:13:59</td>\n",
              "      <td>2019-08-07</td>\n",
              "      <td>21</td>\n",
              "    </tr>\n",
              "    <tr>\n",
              "      <th>244123</th>\n",
              "      <td>MainScreenAppear</td>\n",
              "      <td>5746969938801999050</td>\n",
              "      <td>1970-01-01 00:00:01.565212483</td>\n",
              "      <td>246</td>\n",
              "      <td>2019-08-07 21:14:43</td>\n",
              "      <td>2019-08-07</td>\n",
              "      <td>21</td>\n",
              "    </tr>\n",
              "    <tr>\n",
              "      <th>244124</th>\n",
              "      <td>MainScreenAppear</td>\n",
              "      <td>5746969938801999050</td>\n",
              "      <td>1970-01-01 00:00:01.565212498</td>\n",
              "      <td>246</td>\n",
              "      <td>2019-08-07 21:14:58</td>\n",
              "      <td>2019-08-07</td>\n",
              "      <td>21</td>\n",
              "    </tr>\n",
              "    <tr>\n",
              "      <th>244125</th>\n",
              "      <td>OffersScreenAppear</td>\n",
              "      <td>5746969938801999050</td>\n",
              "      <td>1970-01-01 00:00:01.565212517</td>\n",
              "      <td>246</td>\n",
              "      <td>2019-08-07 21:15:17</td>\n",
              "      <td>2019-08-07</td>\n",
              "      <td>21</td>\n",
              "    </tr>\n",
              "  </tbody>\n",
              "</table>\n",
              "<p>240887 rows × 7 columns</p>\n",
              "</div>"
            ],
            "text/plain": [
              "                     event              user_id                     timestamp  \\\n",
              "2828              Tutorial  3737462046622621720 1970-01-01 00:00:01.564618048   \n",
              "2829      MainScreenAppear  3737462046622621720 1970-01-01 00:00:01.564618080   \n",
              "2830      MainScreenAppear  3737462046622621720 1970-01-01 00:00:01.564618135   \n",
              "2831    OffersScreenAppear  3737462046622621720 1970-01-01 00:00:01.564618138   \n",
              "2832      MainScreenAppear  1433840883824088890 1970-01-01 00:00:01.564618139   \n",
              "...                    ...                  ...                           ...   \n",
              "244121    MainScreenAppear  4599628364049201812 1970-01-01 00:00:01.565212345   \n",
              "244122    MainScreenAppear  5849806612437486590 1970-01-01 00:00:01.565212439   \n",
              "244123    MainScreenAppear  5746969938801999050 1970-01-01 00:00:01.565212483   \n",
              "244124    MainScreenAppear  5746969938801999050 1970-01-01 00:00:01.565212498   \n",
              "244125  OffersScreenAppear  5746969938801999050 1970-01-01 00:00:01.565212517   \n",
              "\n",
              "        experiment_group            datetime       date  hora  \n",
              "2828                 246 2019-08-01 00:07:28 2019-08-01     0  \n",
              "2829                 246 2019-08-01 00:08:00 2019-08-01     0  \n",
              "2830                 246 2019-08-01 00:08:55 2019-08-01     0  \n",
              "2831                 246 2019-08-01 00:08:58 2019-08-01     0  \n",
              "2832                 247 2019-08-01 00:08:59 2019-08-01     0  \n",
              "...                  ...                 ...        ...   ...  \n",
              "244121               247 2019-08-07 21:12:25 2019-08-07    21  \n",
              "244122               246 2019-08-07 21:13:59 2019-08-07    21  \n",
              "244123               246 2019-08-07 21:14:43 2019-08-07    21  \n",
              "244124               246 2019-08-07 21:14:58 2019-08-07    21  \n",
              "244125               246 2019-08-07 21:15:17 2019-08-07    21  \n",
              "\n",
              "[240887 rows x 7 columns]"
            ]
          },
          "execution_count": 284,
          "metadata": {},
          "output_type": "execute_result"
        }
      ],
      "source": [
        "df_n # novo dataframe com apenas o periodo de 1 a 07 de agosto, excluindo primeira semana"
      ]
    },
    {
      "cell_type": "code",
      "execution_count": null,
      "metadata": {
        "id": "cpacCvXKRLad",
        "outputId": "ed4b5037-1880-4885-d8a7-902ffa6ccf0a"
      },
      "outputs": [
        {
          "name": "stdout",
          "output_type": "stream",
          "text": [
            "<class 'pandas.core.frame.DataFrame'>\n",
            "Int64Index: 240887 entries, 2828 to 244125\n",
            "Data columns (total 7 columns):\n",
            " #   Column            Non-Null Count   Dtype         \n",
            "---  ------            --------------   -----         \n",
            " 0   event             240887 non-null  object        \n",
            " 1   user_id           240887 non-null  int64         \n",
            " 2   timestamp         240887 non-null  datetime64[ns]\n",
            " 3   experiment_group  240887 non-null  int64         \n",
            " 4   datetime          240887 non-null  datetime64[ns]\n",
            " 5   date              240887 non-null  datetime64[ns]\n",
            " 6   hora              240887 non-null  int64         \n",
            "dtypes: datetime64[ns](3), int64(3), object(1)\n",
            "memory usage: 14.7+ MB\n"
          ]
        }
      ],
      "source": [
        "df_n.info()"
      ]
    },
    {
      "cell_type": "markdown",
      "metadata": {
        "id": "1utSHcakRLad"
      },
      "source": [
        "Você perdeu muitos eventos e usuários ao excluir os dados mais antigos?"
      ]
    },
    {
      "cell_type": "code",
      "execution_count": null,
      "metadata": {
        "id": "VTnVA841RLad"
      },
      "outputs": [],
      "source": [
        "total_events_n = df_n.shape[0]"
      ]
    },
    {
      "cell_type": "code",
      "execution_count": null,
      "metadata": {
        "id": "21mToLfLRLad",
        "outputId": "79d4b261-31a6-4f9c-876a-4cd9ab67484d"
      },
      "outputs": [
        {
          "data": {
            "text/plain": [
              "240887"
            ]
          },
          "execution_count": 287,
          "metadata": {},
          "output_type": "execute_result"
        }
      ],
      "source": [
        "total_events_n"
      ]
    },
    {
      "cell_type": "code",
      "execution_count": null,
      "metadata": {
        "id": "bOu6mmf5RLae",
        "outputId": "d2a11233-93e8-41a9-89c1-0a5fd7e4b1a0"
      },
      "outputs": [
        {
          "data": {
            "text/plain": [
              "243713"
            ]
          },
          "execution_count": 288,
          "metadata": {},
          "output_type": "execute_result"
        }
      ],
      "source": [
        "total_events"
      ]
    },
    {
      "cell_type": "code",
      "execution_count": null,
      "metadata": {
        "id": "vSzQlaF1RLae",
        "outputId": "deaa9e54-d90e-4996-dc51-ea06807e4470"
      },
      "outputs": [
        {
          "data": {
            "text/plain": [
              "2826"
            ]
          },
          "execution_count": 289,
          "metadata": {},
          "output_type": "execute_result"
        }
      ],
      "source": [
        "lost = total_events - total_events_n\n",
        "lost # eventos perdidos removendo data"
      ]
    },
    {
      "cell_type": "code",
      "execution_count": null,
      "metadata": {
        "id": "e4i0oPSQRLae",
        "outputId": "fc321cc2-dd4d-41c3-9ffa-c30dd142e7d2"
      },
      "outputs": [
        {
          "data": {
            "text/plain": [
              "1.159560630741897"
            ]
          },
          "execution_count": 290,
          "metadata": {},
          "output_type": "execute_result"
        }
      ],
      "source": [
        "prop = lost/total_events * 100\n",
        "prop"
      ]
    },
    {
      "cell_type": "markdown",
      "metadata": {
        "id": "LL4S8mz6RLae"
      },
      "source": [
        "Apenas 1.15% de eventos perdidos .Perdeu poucos eventos em relacao a quantidade total de eventos."
      ]
    },
    {
      "cell_type": "markdown",
      "metadata": {
        "id": "v2bhBy0-RLae"
      },
      "source": [
        "<div class=\"alert alert-block alert-success\">\n",
        "<b> Comentário do revisor: </b> <a class=\"tocSkip\"></a>\n",
        "  \n",
        "O percentual de perda de eventos/usuários após o filtro foi calculado.\n",
        "</div>"
      ]
    },
    {
      "cell_type": "code",
      "execution_count": null,
      "metadata": {
        "id": "uZYwhY0TRLae",
        "outputId": "3f88b097-dd20-4f03-da55-47765d53f2fc"
      },
      "outputs": [
        {
          "data": {
            "text/plain": [
              "2019-08-01    36141\n",
              "2019-08-02    35554\n",
              "2019-08-03    33282\n",
              "2019-08-04    32968\n",
              "2019-08-05    36058\n",
              "2019-08-06    35788\n",
              "2019-08-07    31096\n",
              "Name: date, dtype: int64"
            ]
          },
          "execution_count": 291,
          "metadata": {},
          "output_type": "execute_result"
        }
      ],
      "source": [
        "df_n['date'].value_counts().sort_index()"
      ]
    },
    {
      "cell_type": "code",
      "execution_count": null,
      "metadata": {
        "id": "4O_wTUOLRLaf",
        "outputId": "1d666104-e2ae-4b22-9bf5-be586ec87d5d"
      },
      "outputs": [
        {
          "data": {
            "text/plain": [
              "14    17944\n",
              "15    17892\n",
              "16    16809\n",
              "11    16257\n",
              "13    15566\n",
              "Name: hora, dtype: int64"
            ]
          },
          "execution_count": 292,
          "metadata": {},
          "output_type": "execute_result"
        }
      ],
      "source": [
        "df_n['hora'].value_counts().head(5)"
      ]
    },
    {
      "cell_type": "markdown",
      "metadata": {
        "id": "SK16l2p1RLaf"
      },
      "source": [
        "Horas 14, 15 e 16 sao as com mais atividade, confirmando que a exclusao do periodo inicial nao prejudicou a analise."
      ]
    },
    {
      "cell_type": "markdown",
      "metadata": {
        "id": "4v4ZWYldRLaf"
      },
      "source": [
        "Certifique-se de ter usuários de todos os três grupos experimentais"
      ]
    },
    {
      "cell_type": "code",
      "execution_count": null,
      "metadata": {
        "id": "cT1maaS4RLaf",
        "outputId": "0b999fc0-2226-4d22-a3a0-2e22b8e9e10a"
      },
      "outputs": [
        {
          "data": {
            "text/plain": [
              "count    240887.000000\n",
              "mean        247.021840\n",
              "std           0.824489\n",
              "min         246.000000\n",
              "25%         246.000000\n",
              "50%         247.000000\n",
              "75%         248.000000\n",
              "max         248.000000\n",
              "Name: experiment_group, dtype: float64"
            ]
          },
          "execution_count": 293,
          "metadata": {},
          "output_type": "execute_result"
        }
      ],
      "source": [
        "df_n['experiment_group'].describe() #verificando se continua a ter os 3 perfis"
      ]
    },
    {
      "cell_type": "code",
      "execution_count": null,
      "metadata": {
        "id": "KVMrntY8RLaf",
        "outputId": "c250aab4-6b04-4d73-831f-42622faa387b"
      },
      "outputs": [
        {
          "data": {
            "text/plain": [
              "248    84563\n",
              "246    79302\n",
              "247    77022\n",
              "Name: experiment_group, dtype: int64"
            ]
          },
          "execution_count": 294,
          "metadata": {},
          "output_type": "execute_result"
        }
      ],
      "source": [
        "df_n['experiment_group'].value_counts()"
      ]
    },
    {
      "cell_type": "markdown",
      "metadata": {
        "id": "1eoGncHFRLaf"
      },
      "source": [
        "4. Estudando funil de eventos"
      ]
    },
    {
      "cell_type": "code",
      "execution_count": null,
      "metadata": {
        "id": "ibI1X-W9RLag",
        "outputId": "cb5182c9-1cac-4b2c-e0d7-1c7fbea61824"
      },
      "outputs": [
        {
          "data": {
            "text/html": [
              "<div>\n",
              "<style scoped>\n",
              "    .dataframe tbody tr th:only-of-type {\n",
              "        vertical-align: middle;\n",
              "    }\n",
              "\n",
              "    .dataframe tbody tr th {\n",
              "        vertical-align: top;\n",
              "    }\n",
              "\n",
              "    .dataframe thead th {\n",
              "        text-align: right;\n",
              "    }\n",
              "</style>\n",
              "<table border=\"1\" class=\"dataframe\">\n",
              "  <thead>\n",
              "    <tr style=\"text-align: right;\">\n",
              "      <th></th>\n",
              "      <th>event</th>\n",
              "      <th>user_id</th>\n",
              "      <th>timestamp</th>\n",
              "      <th>experiment_group</th>\n",
              "      <th>datetime</th>\n",
              "      <th>date</th>\n",
              "      <th>hora</th>\n",
              "    </tr>\n",
              "  </thead>\n",
              "  <tbody>\n",
              "    <tr>\n",
              "      <th>2828</th>\n",
              "      <td>Tutorial</td>\n",
              "      <td>3737462046622621720</td>\n",
              "      <td>1970-01-01 00:00:01.564618048</td>\n",
              "      <td>246</td>\n",
              "      <td>2019-08-01 00:07:28</td>\n",
              "      <td>2019-08-01</td>\n",
              "      <td>0</td>\n",
              "    </tr>\n",
              "    <tr>\n",
              "      <th>2829</th>\n",
              "      <td>MainScreenAppear</td>\n",
              "      <td>3737462046622621720</td>\n",
              "      <td>1970-01-01 00:00:01.564618080</td>\n",
              "      <td>246</td>\n",
              "      <td>2019-08-01 00:08:00</td>\n",
              "      <td>2019-08-01</td>\n",
              "      <td>0</td>\n",
              "    </tr>\n",
              "    <tr>\n",
              "      <th>2830</th>\n",
              "      <td>MainScreenAppear</td>\n",
              "      <td>3737462046622621720</td>\n",
              "      <td>1970-01-01 00:00:01.564618135</td>\n",
              "      <td>246</td>\n",
              "      <td>2019-08-01 00:08:55</td>\n",
              "      <td>2019-08-01</td>\n",
              "      <td>0</td>\n",
              "    </tr>\n",
              "    <tr>\n",
              "      <th>2831</th>\n",
              "      <td>OffersScreenAppear</td>\n",
              "      <td>3737462046622621720</td>\n",
              "      <td>1970-01-01 00:00:01.564618138</td>\n",
              "      <td>246</td>\n",
              "      <td>2019-08-01 00:08:58</td>\n",
              "      <td>2019-08-01</td>\n",
              "      <td>0</td>\n",
              "    </tr>\n",
              "    <tr>\n",
              "      <th>2832</th>\n",
              "      <td>MainScreenAppear</td>\n",
              "      <td>1433840883824088890</td>\n",
              "      <td>1970-01-01 00:00:01.564618139</td>\n",
              "      <td>247</td>\n",
              "      <td>2019-08-01 00:08:59</td>\n",
              "      <td>2019-08-01</td>\n",
              "      <td>0</td>\n",
              "    </tr>\n",
              "    <tr>\n",
              "      <th>...</th>\n",
              "      <td>...</td>\n",
              "      <td>...</td>\n",
              "      <td>...</td>\n",
              "      <td>...</td>\n",
              "      <td>...</td>\n",
              "      <td>...</td>\n",
              "      <td>...</td>\n",
              "    </tr>\n",
              "    <tr>\n",
              "      <th>244121</th>\n",
              "      <td>MainScreenAppear</td>\n",
              "      <td>4599628364049201812</td>\n",
              "      <td>1970-01-01 00:00:01.565212345</td>\n",
              "      <td>247</td>\n",
              "      <td>2019-08-07 21:12:25</td>\n",
              "      <td>2019-08-07</td>\n",
              "      <td>21</td>\n",
              "    </tr>\n",
              "    <tr>\n",
              "      <th>244122</th>\n",
              "      <td>MainScreenAppear</td>\n",
              "      <td>5849806612437486590</td>\n",
              "      <td>1970-01-01 00:00:01.565212439</td>\n",
              "      <td>246</td>\n",
              "      <td>2019-08-07 21:13:59</td>\n",
              "      <td>2019-08-07</td>\n",
              "      <td>21</td>\n",
              "    </tr>\n",
              "    <tr>\n",
              "      <th>244123</th>\n",
              "      <td>MainScreenAppear</td>\n",
              "      <td>5746969938801999050</td>\n",
              "      <td>1970-01-01 00:00:01.565212483</td>\n",
              "      <td>246</td>\n",
              "      <td>2019-08-07 21:14:43</td>\n",
              "      <td>2019-08-07</td>\n",
              "      <td>21</td>\n",
              "    </tr>\n",
              "    <tr>\n",
              "      <th>244124</th>\n",
              "      <td>MainScreenAppear</td>\n",
              "      <td>5746969938801999050</td>\n",
              "      <td>1970-01-01 00:00:01.565212498</td>\n",
              "      <td>246</td>\n",
              "      <td>2019-08-07 21:14:58</td>\n",
              "      <td>2019-08-07</td>\n",
              "      <td>21</td>\n",
              "    </tr>\n",
              "    <tr>\n",
              "      <th>244125</th>\n",
              "      <td>OffersScreenAppear</td>\n",
              "      <td>5746969938801999050</td>\n",
              "      <td>1970-01-01 00:00:01.565212517</td>\n",
              "      <td>246</td>\n",
              "      <td>2019-08-07 21:15:17</td>\n",
              "      <td>2019-08-07</td>\n",
              "      <td>21</td>\n",
              "    </tr>\n",
              "  </tbody>\n",
              "</table>\n",
              "<p>240887 rows × 7 columns</p>\n",
              "</div>"
            ],
            "text/plain": [
              "                     event              user_id                     timestamp  \\\n",
              "2828              Tutorial  3737462046622621720 1970-01-01 00:00:01.564618048   \n",
              "2829      MainScreenAppear  3737462046622621720 1970-01-01 00:00:01.564618080   \n",
              "2830      MainScreenAppear  3737462046622621720 1970-01-01 00:00:01.564618135   \n",
              "2831    OffersScreenAppear  3737462046622621720 1970-01-01 00:00:01.564618138   \n",
              "2832      MainScreenAppear  1433840883824088890 1970-01-01 00:00:01.564618139   \n",
              "...                    ...                  ...                           ...   \n",
              "244121    MainScreenAppear  4599628364049201812 1970-01-01 00:00:01.565212345   \n",
              "244122    MainScreenAppear  5849806612437486590 1970-01-01 00:00:01.565212439   \n",
              "244123    MainScreenAppear  5746969938801999050 1970-01-01 00:00:01.565212483   \n",
              "244124    MainScreenAppear  5746969938801999050 1970-01-01 00:00:01.565212498   \n",
              "244125  OffersScreenAppear  5746969938801999050 1970-01-01 00:00:01.565212517   \n",
              "\n",
              "        experiment_group            datetime       date  hora  \n",
              "2828                 246 2019-08-01 00:07:28 2019-08-01     0  \n",
              "2829                 246 2019-08-01 00:08:00 2019-08-01     0  \n",
              "2830                 246 2019-08-01 00:08:55 2019-08-01     0  \n",
              "2831                 246 2019-08-01 00:08:58 2019-08-01     0  \n",
              "2832                 247 2019-08-01 00:08:59 2019-08-01     0  \n",
              "...                  ...                 ...        ...   ...  \n",
              "244121               247 2019-08-07 21:12:25 2019-08-07    21  \n",
              "244122               246 2019-08-07 21:13:59 2019-08-07    21  \n",
              "244123               246 2019-08-07 21:14:43 2019-08-07    21  \n",
              "244124               246 2019-08-07 21:14:58 2019-08-07    21  \n",
              "244125               246 2019-08-07 21:15:17 2019-08-07    21  \n",
              "\n",
              "[240887 rows x 7 columns]"
            ]
          },
          "execution_count": 295,
          "metadata": {},
          "output_type": "execute_result"
        }
      ],
      "source": [
        "df_n"
      ]
    },
    {
      "cell_type": "markdown",
      "metadata": {
        "id": "yhOzHYKPRLag"
      },
      "source": [
        "Veja quais eventos estão nos diários e sua frequência de ocorrência. Classifique-os por frequência.\n"
      ]
    },
    {
      "cell_type": "code",
      "execution_count": null,
      "metadata": {
        "id": "uSHQAFS5RLag"
      },
      "outputs": [],
      "source": [
        "event_counts = df_n['event'].value_counts()"
      ]
    },
    {
      "cell_type": "code",
      "execution_count": null,
      "metadata": {
        "id": "d5DgEuoXRLag",
        "outputId": "7594b4d6-a38a-4e33-c463-4f1e6fc6f78c"
      },
      "outputs": [
        {
          "data": {
            "text/plain": [
              "MainScreenAppear           117328\n",
              "OffersScreenAppear          46333\n",
              "CartScreenAppear            42303\n",
              "PaymentScreenSuccessful     33918\n",
              "Tutorial                     1005\n",
              "Name: event, dtype: int64"
            ]
          },
          "execution_count": 297,
          "metadata": {},
          "output_type": "execute_result"
        }
      ],
      "source": [
        "event_counts"
      ]
    },
    {
      "cell_type": "markdown",
      "metadata": {
        "id": "wJcUzvrsRLag"
      },
      "source": [
        "A maior parte dos eventos diarios esta ligada a tela inicial."
      ]
    },
    {
      "cell_type": "code",
      "execution_count": null,
      "metadata": {
        "id": "SlMi5U-ERLag",
        "outputId": "b084f429-eb94-4992-8b5c-c3add025df6c"
      },
      "outputs": [
        {
          "data": {
            "image/png": "[encoded data removed]",
            "text/plain": [
              "<Figure size 600x800 with 1 Axes>"
            ]
          },
          "metadata": {},
          "output_type": "display_data"
        }
      ],
      "source": [
        "event_counts = pd.Series({\n",
        "    'MainScreenAppear': 117431,\n",
        "    'OffersScreenAppear': 46333,\n",
        "    'CartScreenAppear': 42303,\n",
        "    'PaymentScreenSuccessful': 33918,\n",
        "    'Tutorial': 1005\n",
        "})\n",
        "# Criar gráfico de pizza\n",
        "plt.figure(figsize=(6, 8))\n",
        "plt.pie(event_counts, labels=event_counts.index, autopct='%1.1f%%', startangle=160)\n",
        "# Título\n",
        "plt.title('Distribuição de Eventos ')\n",
        "# Exibir gráfico\n",
        "plt.tight_layout()\n",
        "plt.show()"
      ]
    },
    {
      "cell_type": "markdown",
      "metadata": {
        "id": "wPPUXz0SRLag"
      },
      "source": [
        "<div class=\"alert alert-block alert-success\">\n",
        "<b> Comentário do revisor: </b> <a class=\"tocSkip\"></a>\n",
        "    \n",
        "- A proporção de usuários por etapa do funil foi analisada\n",
        "- A ordem das etapas foi calculada!\n",
        "</div>"
      ]
    },
    {
      "cell_type": "markdown",
      "metadata": {
        "id": "iKpYkhtLRLah"
      },
      "source": [
        "Encontre o número de usuários que executaram cada uma dessas ações. Ordene os eventos pelo número de usuários. Calcule a proporção de usuários que executaram a ação pelo menos uma vez."
      ]
    },
    {
      "cell_type": "code",
      "execution_count": null,
      "metadata": {
        "id": "3V2N7H3uRLah"
      },
      "outputs": [],
      "source": [
        "users_by_event = df_n.groupby('event')['user_id']"
      ]
    },
    {
      "cell_type": "code",
      "execution_count": null,
      "metadata": {
        "id": "NRhlQFzURLah",
        "outputId": "f05edf55-cad0-4613-de9a-36edd7182d93"
      },
      "outputs": [
        {
          "data": {
            "text/plain": [
              "event\n",
              "CartScreenAppear           3734\n",
              "MainScreenAppear           7419\n",
              "OffersScreenAppear         4593\n",
              "PaymentScreenSuccessful    3539\n",
              "Tutorial                    840\n",
              "Name: user_id, dtype: int64"
            ]
          },
          "execution_count": 300,
          "metadata": {},
          "output_type": "execute_result"
        }
      ],
      "source": [
        "users_by_event.nunique()"
      ]
    },
    {
      "cell_type": "code",
      "execution_count": null,
      "metadata": {
        "id": "77OTTrLiRLah"
      },
      "outputs": [],
      "source": [
        "users_by_event = df_n.groupby('event')['user_id'].nunique().sort_values(ascending=False)"
      ]
    },
    {
      "cell_type": "code",
      "execution_count": null,
      "metadata": {
        "id": "SJ2YvLcERLah",
        "outputId": "0741266e-c454-43b1-f8fb-cbd34495782e"
      },
      "outputs": [
        {
          "data": {
            "text/plain": [
              "event\n",
              "MainScreenAppear           7419\n",
              "OffersScreenAppear         4593\n",
              "CartScreenAppear           3734\n",
              "PaymentScreenSuccessful    3539\n",
              "Tutorial                    840\n",
              "Name: user_id, dtype: int64"
            ]
          },
          "execution_count": 302,
          "metadata": {},
          "output_type": "execute_result"
        }
      ],
      "source": [
        "users_by_event # usuarios por eventos por ordem decrescente"
      ]
    },
    {
      "cell_type": "code",
      "execution_count": null,
      "metadata": {
        "id": "oWIb6sERRLah"
      },
      "outputs": [],
      "source": [
        "users_by_event_ratio = users_by_event / total_users"
      ]
    },
    {
      "cell_type": "code",
      "execution_count": null,
      "metadata": {
        "id": "JjD2SoHERLah",
        "outputId": "863316f3-0576-4916-ab63-7cfb919263bd"
      },
      "outputs": [
        {
          "data": {
            "text/plain": [
              "event\n",
              "MainScreenAppear           0.982519\n",
              "OffersScreenAppear         0.608264\n",
              "CartScreenAppear           0.494504\n",
              "PaymentScreenSuccessful    0.468680\n",
              "Tutorial                   0.111244\n",
              "Name: user_id, dtype: float64"
            ]
          },
          "execution_count": 304,
          "metadata": {},
          "output_type": "execute_result"
        }
      ],
      "source": [
        "users_by_event_ratio # proporcao de eventos dos usuarios"
      ]
    },
    {
      "cell_type": "code",
      "execution_count": 1,
      "metadata": {
        "colab": {
          "base_uri": "https://localhost:8080/",
          "height": 211
        },
        "id": "exInz65WRLai",
        "outputId": "2a0c8e7a-e98f-450f-c6de-ee66d34a6ab0"
      },
      "outputs": [
        {
          "output_type": "error",
          "ename": "NameError",
          "evalue": "name 'pd' is not defined",
          "traceback": [
            "\u001b[0;31m---------------------------------------------------------------------------\u001b[0m",
            "\u001b[0;31mNameError\u001b[0m                                 Traceback (most recent call last)",
            "\u001b[0;32m/tmp/ipython-input-3578417870.py\u001b[0m in \u001b[0;36m<cell line: 0>\u001b[0;34m()\u001b[0m\n\u001b[0;32m----> 1\u001b[0;31m users_by_event_ratio = pd.Series({\n\u001b[0m\u001b[1;32m      2\u001b[0m     \u001b[0;34m'MainScreenAppear'\u001b[0m\u001b[0;34m:\u001b[0m \u001b[0;36m0.982519\u001b[0m\u001b[0;34m,\u001b[0m\u001b[0;34m\u001b[0m\u001b[0;34m\u001b[0m\u001b[0m\n\u001b[1;32m      3\u001b[0m     \u001b[0;34m'OffersScreenAppear'\u001b[0m\u001b[0;34m:\u001b[0m \u001b[0;36m0.608264\u001b[0m\u001b[0;34m,\u001b[0m\u001b[0;34m\u001b[0m\u001b[0;34m\u001b[0m\u001b[0m\n\u001b[1;32m      4\u001b[0m     \u001b[0;34m'CartScreenAppear'\u001b[0m\u001b[0;34m:\u001b[0m \u001b[0;36m0.494504\u001b[0m\u001b[0;34m,\u001b[0m\u001b[0;34m\u001b[0m\u001b[0;34m\u001b[0m\u001b[0m\n\u001b[1;32m      5\u001b[0m     \u001b[0;34m'PaymentScreenSuccessful'\u001b[0m\u001b[0;34m:\u001b[0m \u001b[0;36m0.468680\u001b[0m\u001b[0;34m,\u001b[0m\u001b[0;34m\u001b[0m\u001b[0;34m\u001b[0m\u001b[0m\n",
            "\u001b[0;31mNameError\u001b[0m: name 'pd' is not defined"
          ]
        }
      ],
      "source": [
        "users_by_event_ratio = pd.Series({\n",
        "    'MainScreenAppear': 0.982519,\n",
        "    'OffersScreenAppear': 0.608264,\n",
        "    'CartScreenAppear': 0.494504,\n",
        "    'PaymentScreenSuccessful': 0.468680,\n",
        "    'Tutorial': 0.111244\n",
        "})\n",
        "plt.pie(users_by_event_ratio, labels=users_by_event_ratio.index, autopct='%1.1f%%', startangle=120)\n",
        "# Adicionando rótulos e título\n",
        "plt.title('Proporção de Usuarios que executam acao ao menos uma vez')\n",
        "# Exibir gráfico\n",
        "plt.show()"
      ]
    },
    {
      "cell_type": "markdown",
      "metadata": {
        "id": "MIcVjj6YRLai"
      },
      "source": [
        "Em que ordem você acha que as ações ocorreram? Todos elas fazem parte de uma única sequência? Você não precisa levá-las em consideração ao calcular o funil."
      ]
    },
    {
      "cell_type": "code",
      "execution_count": null,
      "metadata": {
        "id": "DsmJ0jJrRLai"
      },
      "outputs": [],
      "source": [
        "funnel_events = ['MainScreenAppear', 'OffersScreenAppear', 'CartScreenAppear', 'PaymentScreenSuccessful', 'Tutorial']"
      ]
    },
    {
      "cell_type": "code",
      "execution_count": null,
      "metadata": {
        "id": "J3kNI2_1RLai"
      },
      "outputs": [],
      "source": [
        "# Calcular o funil\n",
        "funnel = {}\n",
        "for i, event in enumerate(funnel_events):\n",
        "    users = df_n[df_n['event'] == event]['user_id'].nunique()\n",
        "    funnel[event] = users"
      ]
    },
    {
      "cell_type": "markdown",
      "metadata": {
        "id": "z05LaNKMRLai"
      },
      "source": [
        "Use o funil de eventos para encontrar a parcela de usuários que passam de uma etapa para a próxima (por exemplo, para a sequência de eventos A → B → C, calcule a proporção de usuários na etapa B para o número de usuários na etapa A e a proporção de usuários na etapa C para o número na etapa B).\n"
      ]
    },
    {
      "cell_type": "code",
      "execution_count": null,
      "metadata": {
        "id": "OEsWrn9iRLaj"
      },
      "outputs": [],
      "source": [
        "# Calcular proporções entre as etapas\n",
        "conversion_rates = {}\n",
        "for i in range(len(funnel_events) - 1):\n",
        "    step_current = funnel_events[i]\n",
        "    step_next = funnel_events[i+1]\n",
        "    conversion_rates[f'{step_current} → {step_next}'] = funnel[step_next] / funnel[step_current]"
      ]
    },
    {
      "cell_type": "code",
      "execution_count": null,
      "metadata": {
        "id": "fAvCDOJwRLaj",
        "outputId": "89537d04-d876-49d8-f435-6d5d3232f2d9"
      },
      "outputs": [
        {
          "data": {
            "text/plain": [
              "{'MainScreenAppear → OffersScreenAppear': 0.6190861302062273,\n",
              " 'OffersScreenAppear → CartScreenAppear': 0.8129762682342695,\n",
              " 'CartScreenAppear → PaymentScreenSuccessful': 0.9477771826459561,\n",
              " 'PaymentScreenSuccessful → Tutorial': 0.23735518508053122}"
            ]
          },
          "execution_count": 309,
          "metadata": {},
          "output_type": "execute_result"
        }
      ],
      "source": [
        "conversion_rates"
      ]
    },
    {
      "cell_type": "markdown",
      "metadata": {
        "id": "Wy0i2tg0RLaj"
      },
      "source": [
        "Em qual fase você perde mais usuários?\n",
        "Apos o pagamento quando vai para o tutorial."
      ]
    },
    {
      "cell_type": "markdown",
      "metadata": {
        "id": "CceIZvcoRLaj"
      },
      "source": [
        "Qual é a parcela de usuários que faz o caminho inteiro, desde o primeiro evento até o pagamento?"
      ]
    },
    {
      "cell_type": "code",
      "execution_count": null,
      "metadata": {
        "id": "OVXCR_i7RLaj",
        "outputId": "23fbd4ab-7ffd-4024-8be6-d421c535cb44"
      },
      "outputs": [
        {
          "name": "stdout",
          "output_type": "stream",
          "text": [
            "3429\n",
            "0.4551367135651712\n"
          ]
        }
      ],
      "source": [
        "funil = [\n",
        "    'MainScreenAppear',\n",
        "    'OffersScreenAppear',\n",
        "    'CartScreenAppear',\n",
        "    'PaymentScreenSuccessful']\n",
        "\n",
        "# Total de usuários únicos\n",
        "usuarios_totais = df_n['user_id'].nunique()\n",
        "\n",
        "# Seleciona usuários que participaram de todos os eventos do funil\n",
        "usuarios_funil = df_n[df_n['event'].isin(funil)]\n",
        "usuarios_por_evento = {\n",
        "    etapa: set(usuarios_funil[usuarios_funil['event'] == etapa]['user_id']) for etapa in funil\n",
        "}\n",
        "\n",
        "# Interseção: usuários que passaram por todas as etapas\n",
        "usuarios_completos = set.intersection(*usuarios_por_evento.values())\n",
        "\n",
        "# Calcula proporção\n",
        "usuarios_final = len(usuarios_completos)\n",
        "taxa_conversao = usuarios_final / usuarios_totais\n",
        "\n",
        "print (usuarios_final)\n",
        "print (taxa_conversao)"
      ]
    },
    {
      "cell_type": "markdown",
      "metadata": {
        "id": "3I8jgN6oRLaj"
      },
      "source": [
        "3429 usuarios com uma taxa de conversao de 45%"
      ]
    },
    {
      "cell_type": "markdown",
      "metadata": {
        "id": "QF6NgtEiRLak"
      },
      "source": [
        "5. Estudando os resultados do experimento"
      ]
    },
    {
      "cell_type": "markdown",
      "metadata": {
        "id": "-sRae1UYRLak"
      },
      "source": [
        "ExpId — número do experimento: 246 e 247 são os grupos de controle, 248 é o grupo de teste"
      ]
    },
    {
      "cell_type": "code",
      "execution_count": null,
      "metadata": {
        "id": "UdEH5K_dRLak",
        "outputId": "80ce9341-9d16-466a-bae5-e8e51480ba04"
      },
      "outputs": [
        {
          "data": {
            "text/plain": [
              "248    84563\n",
              "246    79302\n",
              "247    77022\n",
              "Name: experiment_group, dtype: int64"
            ]
          },
          "execution_count": 330,
          "metadata": {},
          "output_type": "execute_result"
        }
      ],
      "source": [
        "df_n['experiment_group'].value_counts()"
      ]
    },
    {
      "cell_type": "code",
      "execution_count": null,
      "metadata": {
        "id": "7CefayC0RLak"
      },
      "outputs": [],
      "source": [
        "#Verificar grupos experimentais por usuarios\n",
        "user_by_group = df_n.groupby('experiment_group')['user_id'].nunique()"
      ]
    },
    {
      "cell_type": "code",
      "execution_count": null,
      "metadata": {
        "id": "rL-GMOlSRLak",
        "outputId": "fd7a74dd-88ed-4618-83b6-9c768ea36583"
      },
      "outputs": [
        {
          "name": "stdout",
          "output_type": "stream",
          "text": [
            "experiment_group\n",
            "246    2484\n",
            "247    2513\n",
            "248    2537\n",
            "Name: user_id, dtype: int64\n"
          ]
        }
      ],
      "source": [
        "print (user_by_group)"
      ]
    },
    {
      "cell_type": "code",
      "execution_count": null,
      "metadata": {
        "id": "uj2iXXjSRLak",
        "outputId": "4883ced4-c67d-4699-ee75-da189ec7861f"
      },
      "outputs": [
        {
          "data": {
            "text/plain": [
              "experiment_group\n",
              "246    2484\n",
              "247    2513\n",
              "248    2537\n",
              "Name: user_id, dtype: int64"
            ]
          },
          "execution_count": 333,
          "metadata": {},
          "output_type": "execute_result"
        }
      ],
      "source": [
        "user_by_group.head()"
      ]
    },
    {
      "cell_type": "markdown",
      "metadata": {
        "id": "eWICiMV4RLak"
      },
      "source": [
        "Os grupos controle 246 tem 2484 usuarios e o controle 247 tem 2513 usuarios e o grupo 248 teste tem 2537."
      ]
    },
    {
      "cell_type": "markdown",
      "metadata": {
        "id": "Zp4PG6nSRLal"
      },
      "source": [
        "Comparando os grupos A (controle)"
      ]
    },
    {
      "cell_type": "code",
      "execution_count": null,
      "metadata": {
        "id": "b-Ar6lRURLal"
      },
      "outputs": [],
      "source": [
        "# Comparação A/A (grupos 246 e 247) — grupos de controle\n",
        "# Lista dos eventos únicos\n",
        "eventos = df_n['event'].unique()"
      ]
    },
    {
      "cell_type": "code",
      "execution_count": null,
      "metadata": {
        "id": "OWGBFSrTRLal",
        "outputId": "b52e0735-a89d-4e36-9116-062461168563"
      },
      "outputs": [
        {
          "name": "stdout",
          "output_type": "stream",
          "text": [
            "Tutorial                  | p-valor: 0.9734 | sem diferença\n",
            "MainScreenAppear          | p-valor: 0.8495 | sem diferença\n",
            "OffersScreenAppear        | p-valor: 0.2602 | sem diferença\n",
            "CartScreenAppear          | p-valor: 0.2400 | sem diferença\n",
            "PaymentScreenSuccessful   | p-valor: 0.1212 | sem diferença\n"
          ]
        }
      ],
      "source": [
        "# Função para comparar dois grupos para um evento\n",
        "def comparar_evento(evento):\n",
        "    grupo1 = 246\n",
        "    grupo2 = 247\n",
        "\n",
        "    # Total de usuários em cada grupo\n",
        "    total_1 = df_n[df_n['experiment_group'] == grupo1]['user_id'].nunique()\n",
        "    total_2 = df_n[df_n['experiment_group'] == grupo2]['user_id'].nunique()\n",
        "\n",
        "    # Usuários que realizaram o evento\n",
        "    evento_1 = df_n[(df_n['event'] == evento) & (df_n['experiment_group'] == grupo1)]['user_id'].nunique()\n",
        "    evento_2 = df_n[(df_n['event'] == evento) & (df_n['experiment_group'] == grupo2)]['user_id'].nunique()\n",
        "\n",
        "    # Tabela de contingência\n",
        "    tabela = [[evento_1, total_1 - evento_1], [evento_2, total_2 - evento_2]]\n",
        "\n",
        "    # Teste qui-quadrado\n",
        "    stat, p, dof, expected = chi2_contingency(tabela)\n",
        "\n",
        "    resultado = f\"{evento:25s} | p-valor: {p:.4f} | {'DIFERENÇA SIGNIFICATIVA' if p < 0.05 else 'sem diferença'}\"\n",
        "    return resultado\n",
        "\n",
        "# Rodar para todos os eventos\n",
        "resultados = [comparar_evento(e) for e in eventos]\n",
        "for r in resultados:\n",
        "    print(r)"
      ]
    },
    {
      "cell_type": "code",
      "execution_count": null,
      "metadata": {
        "id": "Vex2hYxFRLal",
        "outputId": "752e479b-037e-4e44-988d-a21583479a16"
      },
      "outputs": [
        {
          "name": "stdout",
          "output_type": "stream",
          "text": [
            "Evento mais popular: MainScreenAppear\n"
          ]
        }
      ],
      "source": [
        "evento_mais_popular = df_n['event'].value_counts().idxmax()\n",
        "print(f\"Evento mais popular: {evento_mais_popular}\")"
      ]
    },
    {
      "cell_type": "code",
      "execution_count": null,
      "metadata": {
        "id": "e6viO9tQRLal",
        "outputId": "18a1a4cc-5011-469b-92e1-bfa1a751532d"
      },
      "outputs": [
        {
          "name": "stdout",
          "output_type": "stream",
          "text": [
            "Grupo 246 - 2450/2484 = 98.63%\n",
            "Grupo 247 - 2476/2513 = 98.53%\n"
          ]
        }
      ],
      "source": [
        "# Grupos de controle\n",
        "grupo_A1 = 246\n",
        "grupo_A2 = 247\n",
        "\n",
        "# Total de usuários por grupo\n",
        "usuarios_A1 = df_n[df_n['experiment_group'] == grupo_A1]['user_id'].nunique()\n",
        "usuarios_A2 = df_n[df_n['experiment_group'] == grupo_A2]['user_id'].nunique()\n",
        "\n",
        "# Usuários que realizaram o evento\n",
        "usuarios_evento_A1 = df_n[(df_n['event'] == evento_mais_popular) &\n",
        "                          (df_n['experiment_group'] == grupo_A1)]['user_id'].nunique()\n",
        "\n",
        "usuarios_evento_A2 = df_n[(df_n['event'] == evento_mais_popular) &\n",
        "                          (df_n['experiment_group'] == grupo_A2)]['user_id'].nunique()\n",
        "\n",
        "# Proporções\n",
        "prop_A1 = usuarios_evento_A1 / usuarios_A1\n",
        "prop_A2 = usuarios_evento_A2 / usuarios_A2\n",
        "\n",
        "print(f\"Grupo 246 - {usuarios_evento_A1}/{usuarios_A1} = {prop_A1:.2%}\")\n",
        "print(f\"Grupo 247 - {usuarios_evento_A2}/{usuarios_A2} = {prop_A2:.2%}\")"
      ]
    },
    {
      "cell_type": "code",
      "execution_count": null,
      "metadata": {
        "id": "aXgrhrXoRLal",
        "outputId": "8c9e7b40-6bc4-4ef5-bc1e-aead0132be2a"
      },
      "outputs": [
        {
          "name": "stdout",
          "output_type": "stream",
          "text": [
            "p-valor: 0.8495\n",
            "Sem diferença significativa — divisão está válida\n"
          ]
        }
      ],
      "source": [
        "# Tabela de contingência\n",
        "tabela = [\n",
        "    [usuarios_evento_A1, usuarios_A1 - usuarios_evento_A1],\n",
        "    [usuarios_evento_A2, usuarios_A2 - usuarios_evento_A2]\n",
        "]\n",
        "\n",
        "# Teste qui-quadrado\n",
        "stat, p, _, _ = chi2_contingency(tabela)\n",
        "print(f\"p-valor: {p:.4f}\")\n",
        "if p < 0.05:\n",
        "    print(\"Diferença significativa entre os grupos de controle\")\n",
        "else:\n",
        "    print(\"Sem diferença significativa — divisão está válida\")\n"
      ]
    },
    {
      "cell_type": "code",
      "execution_count": null,
      "metadata": {
        "id": "nP0mC9h-RLam",
        "outputId": "9a7e5a26-8284-43b7-f02b-debb7edf59fc"
      },
      "outputs": [
        {
          "name": "stdout",
          "output_type": "stream",
          "text": [
            "                    evento  grupo1_proporcao  grupo2_proporcao   p_valor  \\\n",
            "4  PaymentScreenSuccessful          0.483092          0.460804  0.121224   \n",
            "3         CartScreenAppear          0.509662          0.492638  0.239965   \n",
            "2       OffersScreenAppear          0.620773          0.604855  0.260188   \n",
            "1         MainScreenAppear          0.986312          0.985277  0.849457   \n",
            "0                 Tutorial          0.111916          0.112614  0.973395   \n",
            "\n",
            "   significativo  \n",
            "4          False  \n",
            "3          False  \n",
            "2          False  \n",
            "1          False  \n",
            "0          False  \n"
          ]
        }
      ],
      "source": [
        "def teste_eventos_entre_grupos(df, grupo1=246, grupo2=247, alpha=0.05):\n",
        "    eventos = df_n['event'].unique()\n",
        "    resultados = []\n",
        "\n",
        "    total_1 = df_n[df_n['experiment_group'] == grupo1]['user_id'].nunique()\n",
        "    total_2 = df_n[df_n['experiment_group'] == grupo2]['user_id'].nunique()\n",
        "\n",
        "    for evento in eventos:\n",
        "        u1 = df_n[(df_n['event'] == evento) & (df_n['experiment_group'] == grupo1)]['user_id'].nunique()\n",
        "        u2 = df_n[(df_n['event'] == evento) & (df_n['experiment_group'] == grupo2)]['user_id'].nunique()\n",
        "\n",
        "        table = [[u1, total_1 - u1], [u2, total_2 - u2]]\n",
        "        _, p, _, _ = chi2_contingency(table)\n",
        "\n",
        "        resultados.append({\n",
        "            'evento': evento,\n",
        "            'grupo1_proporcao': u1 / total_1,\n",
        "            'grupo2_proporcao': u2 / total_2,\n",
        "            'p_valor': p,\n",
        "            'significativo': p < alpha\n",
        "        })\n",
        "\n",
        "    return pd.DataFrame(resultados).sort_values('p_valor')\n",
        "\n",
        "# Executar\n",
        "resultado_eventos = teste_eventos_entre_grupos(df_n)\n",
        "print(resultado_eventos)"
      ]
    },
    {
      "cell_type": "markdown",
      "metadata": {
        "id": "hm2SXhm8RLam"
      },
      "source": [
        " Interpretação Final: estao bem balanceados"
      ]
    },
    {
      "cell_type": "code",
      "execution_count": null,
      "metadata": {
        "id": "sxKpA86CRLam"
      },
      "outputs": [],
      "source": [
        "# Função de comparação A/B entre dois\n",
        "def comparar_grupos(df, grupo_a, grupo_b, alpha=0.05):\n",
        "    eventos = df_n['event'].unique()\n",
        "    resultados = []\n",
        "\n",
        "    total_a = df_n[df_n['experiment_group'] == grupo_a]['user_id'].nunique()\n",
        "    total_b = df_n[df_n['experiment_group'] == grupo_b]['user_id'].nunique()\n",
        "\n",
        "    for evento in eventos:\n",
        "        u_a = df_n[(df_n['event'] == evento) & (df_n['experiment_group'] == grupo_a)]['user_id'].nunique()\n",
        "        u_b = df_n[(df_n['event'] == evento) & (df_n['experiment_group'] == grupo_b)]['user_id'].nunique()\n",
        "\n",
        "        tabela = [[u_a, total_a - u_a], [u_b, total_b - u_b]]\n",
        "        _, p, _, _ = chi2_contingency(tabela)\n",
        "\n",
        "        resultados.append({\n",
        "            'evento': evento,\n",
        "            f'grupo_{grupo_a}_proporcao': u_a / total_a,\n",
        "            f'grupo_{grupo_b}_proporcao': u_b / total_b,\n",
        "            'p_valor': p,\n",
        "            'significativo': p < alpha\n",
        "        })\n",
        "\n",
        "    return pd.DataFrame(resultados).sort_values('p_valor')\n",
        "\n",
        "# IDs dos grupos\n",
        "grupo_teste = 248\n",
        "grupo_controle_1 = 246\n",
        "grupo_controle_2 = 247\n",
        "\n",
        "# Comparação 248 vs 246\n",
        "resultado_248_vs_246 = comparar_grupos(df_n, grupo_teste, grupo_controle_1)\n",
        "\n",
        "# Comparação 248 vs 247\n",
        "resultado_248_vs_247 = comparar_grupos(df_n, grupo_teste, grupo_controle_2)"
      ]
    },
    {
      "cell_type": "markdown",
      "metadata": {
        "id": "cdHCHZ-vRLan"
      },
      "source": [
        "Comparando grupo B com controle combinado"
      ]
    },
    {
      "cell_type": "code",
      "execution_count": null,
      "metadata": {
        "id": "Glk-sgNLRLan",
        "outputId": "310d3081-c343-456f-8c28-dde35b1e9b91"
      },
      "outputs": [
        {
          "data": {
            "image/png": "[encoded data removed]",
            "text/plain": [
              "<Figure size 1200x600 with 1 Axes>"
            ]
          },
          "metadata": {},
          "output_type": "display_data"
        },
        {
          "data": {
            "image/png": "[encoded data removed]",
            "text/plain": [
              "<Figure size 1200x600 with 1 Axes>"
            ]
          },
          "metadata": {},
          "output_type": "display_data"
        }
      ],
      "source": [
        "def plot_comparacao(df_n_res, grupo_a, grupo_b, top_n=10):\n",
        "    df_plot = df_n_res.copy().sort_values('p_valor').head(top_n)\n",
        "    plt.figure(figsize=(12, 6))\n",
        "    bar_width = 0.35\n",
        "    index = range(len(df_plot))\n",
        "\n",
        "    plt.bar(index, df_plot[f'grupo_{grupo_a}_proporcao'], bar_width, label=f'Grupo {grupo_a}')\n",
        "    plt.bar([i + bar_width for i in index], df_plot[f'grupo_{grupo_b}_proporcao'], bar_width, label=f'Grupo {grupo_b}')\n",
        "\n",
        "    plt.xlabel('Evento')\n",
        "    plt.ylabel('Proporção de usuários')\n",
        "    plt.title(f'Comparação de proporção de eventos - Grupo {grupo_a} vs {grupo_b}')\n",
        "    plt.xticks([i + bar_width / 2 for i in index], df_plot['evento'], rotation=45, ha='right')\n",
        "    plt.legend()\n",
        "    plt.tight_layout()\n",
        "    plt.show()\n",
        "\n",
        "# Plots para cada comparação\n",
        "plot_comparacao(resultado_248_vs_246, 248, 246)\n",
        "plot_comparacao(resultado_248_vs_247, 248, 247)"
      ]
    },
    {
      "cell_type": "markdown",
      "metadata": {
        "id": "ZXHhs0sRRLan"
      },
      "source": [
        "Muito semelhante ao controle, ou seja nao existem diferencas significativas posso confiar nos grupos controle em relacao ao teste e na verdade pouco influenciou as novas fontes utilizadas."
      ]
    },
    {
      "cell_type": "markdown",
      "metadata": {
        "id": "8LU0eDLpRLan"
      },
      "source": [
        "<div class=\"alert alert-block alert-success\">\n",
        "<b> Comentário do revisor: </b> <a class=\"tocSkip\"></a>\n",
        "\n",
        "- A conversão dos usuários por etapa do funil foi analisada\n",
        "- O percentual de usuários que percorrem todo o caminho foi calculado\n",
        "- A perda de usuários foi calculada por etapa do funil\n",
        "- O número de usuários por grupo foi analisado\n",
        "</div>"
      ]
    },
    {
      "cell_type": "code",
      "execution_count": null,
      "metadata": {
        "id": "_pDtS4o2RLan",
        "outputId": "211e996a-1273-4821-d7d7-9cd83794e115"
      },
      "outputs": [
        {
          "name": "stdout",
          "output_type": "stream",
          "text": [
            " Número de testes estatísticos realizados: 5\n"
          ]
        }
      ],
      "source": [
        "num_eventos = df_n['event'].nunique()\n",
        "print(f\" Número de testes estatísticos realizados: {num_eventos}\")"
      ]
    },
    {
      "cell_type": "markdown",
      "metadata": {
        "id": "ck5d6LXJRLan"
      },
      "source": [
        "o nível de significância padrão foi de 5%. Isso significa que:\n",
        "A cada 100 testes, até 5 podem acusar uma diferença que não existe (falso positivo)."
      ]
    },
    {
      "cell_type": "markdown",
      "metadata": {
        "id": "cBvAgZW-RLao"
      },
      "source": [
        "Com um nível de significância estatística de 0,1, um de cada 10 resultados pode ser falso. Qual deveria ser o nível de significância? Se você quiser alterá-lo, execute as etapas anteriores novamente e verifique suas conclusões."
      ]
    },
    {
      "cell_type": "code",
      "execution_count": null,
      "metadata": {
        "id": "xxOeh0pHRLao",
        "outputId": "b42fcdd4-9982-4649-be32-a1938e817122"
      },
      "outputs": [
        {
          "name": "stdout",
          "output_type": "stream",
          "text": [
            "                    evento  grupo1_proporcao  grupo2_proporcao   p_valor  \\\n",
            "4  PaymentScreenSuccessful          0.483092          0.460804  0.121224   \n",
            "3         CartScreenAppear          0.509662          0.492638  0.239965   \n",
            "2       OffersScreenAppear          0.620773          0.604855  0.260188   \n",
            "1         MainScreenAppear          0.986312          0.985277  0.849457   \n",
            "0                 Tutorial          0.111916          0.112614  0.973395   \n",
            "\n",
            "   significativo  \n",
            "4          False  \n",
            "3          False  \n",
            "2          False  \n",
            "1          False  \n",
            "0          False  \n"
          ]
        }
      ],
      "source": [
        "def teste_eventos_entre_grupos(df, grupo1=246, grupo2=247, alpha=0.1):\n",
        "    eventos = df_n['event'].unique()\n",
        "    resultados = []\n",
        "\n",
        "    total_1 = df_n[df_n['experiment_group'] == grupo1]['user_id'].nunique()\n",
        "    total_2 = df_n[df_n['experiment_group'] == grupo2]['user_id'].nunique()\n",
        "\n",
        "    for evento in eventos:\n",
        "        u1 = df_n[(df_n['event'] == evento) & (df_n['experiment_group'] == grupo1)]['user_id'].nunique()\n",
        "        u2 = df_n[(df_n['event'] == evento) & (df_n['experiment_group'] == grupo2)]['user_id'].nunique()\n",
        "\n",
        "        table = [[u1, total_1 - u1], [u2, total_2 - u2]]\n",
        "        _, p, _, _ = chi2_contingency(table)\n",
        "\n",
        "        resultados.append({\n",
        "            'evento': evento,\n",
        "            'grupo1_proporcao': u1 / total_1,\n",
        "            'grupo2_proporcao': u2 / total_2,\n",
        "            'p_valor': p,\n",
        "            'significativo': p < alpha\n",
        "        })\n",
        "\n",
        "    return pd.DataFrame(resultados).sort_values('p_valor')\n",
        "\n",
        "# Executar\n",
        "resultado_eventos = teste_eventos_entre_grupos(df_n)\n",
        "print(resultado_eventos)"
      ]
    },
    {
      "cell_type": "code",
      "execution_count": null,
      "metadata": {
        "id": "spSvd26ORLao"
      },
      "outputs": [],
      "source": [
        "# Função de comparação A/B entre dois\n",
        "def comparar_grupos(df, grupo_a, grupo_b, alpha=0.1):\n",
        "    eventos = df_n['event'].unique()\n",
        "    resultados = []\n",
        "\n",
        "    total_a = df_n[df_n['experiment_group'] == grupo_a]['user_id'].nunique()\n",
        "    total_b = df_n[df_n['experiment_group'] == grupo_b]['user_id'].nunique()\n",
        "\n",
        "    for evento in eventos:\n",
        "        u_a = df_n[(df_n['event'] == evento) & (df_n['experiment_group'] == grupo_a)]['user_id'].nunique()\n",
        "        u_b = df_n[(df_n['event'] == evento) & (df_n['experiment_group'] == grupo_b)]['user_id'].nunique()\n",
        "\n",
        "        tabela = [[u_a, total_a - u_a], [u_b, total_b - u_b]]\n",
        "        _, p, _, _ = chi2_contingency(tabela)\n",
        "\n",
        "        resultados.append({\n",
        "            'evento': evento,\n",
        "            f'grupo_{grupo_a}_proporcao': u_a / total_a,\n",
        "            f'grupo_{grupo_b}_proporcao': u_b / total_b,\n",
        "            'p_valor': p,\n",
        "            'significativo': p < alpha\n",
        "        })\n",
        "\n",
        "    return pd.DataFrame(resultados).sort_values('p_valor')\n",
        "\n",
        "# IDs dos grupos\n",
        "grupo_teste = 248\n",
        "grupo_controle_1 = 246\n",
        "grupo_controle_2 = 247\n",
        "\n",
        "# Comparação 248 vs 246\n",
        "resultado_248_vs_246 = comparar_grupos(df_n, grupo_teste, grupo_controle_1)\n",
        "\n",
        "# Comparação 248 vs 247\n",
        "resultado_248_vs_247 = comparar_grupos(df_n, grupo_teste, grupo_controle_2)"
      ]
    },
    {
      "cell_type": "code",
      "execution_count": null,
      "metadata": {
        "id": "C3KMlEDeRLao",
        "outputId": "81f1d320-9b2b-4c64-8dff-3665bd275d0f"
      },
      "outputs": [
        {
          "data": {
            "image/png": "[encoded data removed]",
            "text/plain": [
              "<Figure size 1200x600 with 1 Axes>"
            ]
          },
          "metadata": {},
          "output_type": "display_data"
        },
        {
          "data": {
            "image/png": "[encoded data removed]",
            "text/plain": [
              "<Figure size 1200x600 with 1 Axes>"
            ]
          },
          "metadata": {},
          "output_type": "display_data"
        }
      ],
      "source": [
        "def plot_comparacao(df_n_res, grupo_a, grupo_b, top_n=10):\n",
        "    df_plot = df_n_res.copy().sort_values('p_valor').head(top_n)\n",
        "    plt.figure(figsize=(12, 6))\n",
        "    bar_width = 0.35\n",
        "    index = range(len(df_plot))\n",
        "\n",
        "    plt.bar(index, df_plot[f'grupo_{grupo_a}_proporcao'], bar_width, label=f'Grupo {grupo_a}')\n",
        "    plt.bar([i + bar_width for i in index], df_plot[f'grupo_{grupo_b}_proporcao'], bar_width, label=f'Grupo {grupo_b}')\n",
        "\n",
        "    plt.xlabel('Evento')\n",
        "    plt.ylabel('Proporção de usuários')\n",
        "    plt.title(f'Comparação de proporção de eventos - Grupo {grupo_a} vs {grupo_b}')\n",
        "    plt.xticks([i + bar_width / 2 for i in index], df_plot['evento'], rotation=45, ha='right')\n",
        "    plt.legend()\n",
        "    plt.tight_layout()\n",
        "    plt.show()\n",
        "\n",
        "# Plots para cada comparação\n",
        "plot_comparacao(resultado_248_vs_246, 248, 246)\n",
        "plot_comparacao(resultado_248_vs_247, 248, 247)"
      ]
    },
    {
      "cell_type": "markdown",
      "metadata": {
        "id": "hWzKj_RMRLao"
      },
      "source": [
        "Conclusoes Gerais do Projeto:\n",
        "* Funil de conversão apresenta perda significativa nas etapas iniciais — foco possível para melhorias.\n",
        "* Teste A/A confirmou a integridade da divisão de grupos.\n",
        "* Nova fonte (teste A/B) não teve impacto estatisticamente comprovado no comportamento dos usuários.\n",
        "* Recomendação: manter o design atual (ou testar outros elementos com impacto mais direto)."
      ]
    },
    {
      "cell_type": "markdown",
      "metadata": {
        "id": "OfovXSQmRLao"
      },
      "source": [
        "<div class=\"alert alert-block alert-success\">\n",
        "<b> Comentário do revisor: </b> <a class=\"tocSkip\"></a>\n",
        "\n",
        "- O teste foi executado corretamente\n",
        "- As estatísticas e `p-valor` foram calculados\n",
        "- A conclusão final foi apresentada. Bom trabalho consolidando as análises realizadas!\n",
        "</div>"
      ]
    }
  ],
  "metadata": {
    "kernelspec": {
      "display_name": "Python 3 (ipykernel)",
      "language": "python",
      "name": "python3"
    },
    "language_info": {
      "codemirror_mode": {
        "name": "ipython",
        "version": 3
      },
      "file_extension": ".py",
      "mimetype": "text/x-python",
      "name": "python",
      "nbconvert_exporter": "python",
      "pygments_lexer": "ipython3",
      "version": "3.9.23"
    },
    "colab": {
      "provenance": [],
      "include_colab_link": true
    }
  },
  "nbformat": 4,
  "nbformat_minor": 0
}