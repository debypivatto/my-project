{
  "cells": [
    {
      "cell_type": "markdown",
      "metadata": {
        "id": "view-in-github",
        "colab_type": "text"
      },
      "source": [
        "<a href=\"https://colab.research.google.com/github/debypivatto/my-project/blob/main/projeto.ipynb\" target=\"_parent\"><img src=\"https://colab.research.google.com/assets/colab-badge.svg\" alt=\"Open In Colab\"/></a>"
      ]
    },
    {
      "cell_type": "markdown",
      "metadata": {
        "id": "ONxCPUpTjTwf"
      },
      "source": [
        "Projeto Final\n",
        "Tema: E-Commerce"
      ]
    },
    {
      "cell_type": "markdown",
      "metadata": {
        "id": "XxctZKAHjTwi"
      },
      "source": [
        "1. Objetivo geral do projeto: Verificar perfis de usuários com base no consumo da loja Everything Plus, uma loja online que vende utensílios domésticos"
      ]
    },
    {
      "cell_type": "markdown",
      "metadata": {
        "id": "zr5C1q29jTwi"
      },
      "source": [
        "2. Entendimento do problema e entregas esperadas:\n",
        "Problema: Prever comportamentos de clientes atraves dos seus perfis de consumo , utilizando análise exploratória de dados, segmentação por histórico de compras e testes de hipótese e desenvolver com a equipe de marketing o desenvolvimento de promoções"
      ]
    },
    {
      "cell_type": "markdown",
      "metadata": {
        "id": "PEOfmQ6FjTwj"
      },
      "source": [
        "3. Coleta e Preparação dos Dados:"
      ]
    },
    {
      "cell_type": "markdown",
      "metadata": {
        "id": "9Euk0xv0jTwj"
      },
      "source": [
        "Informação sobre os Dados:\n",
        "`InvoiceNo` — identificador de pedido\n",
        "`StockCode` — identificador de item\n",
        "`Description` — nome de item\n",
        "`Quantity`\n",
        "`InvoiceDate` — data do pedido\n",
        "`UnitPrice` — preço por item\n",
        "`CustomerID`"
      ]
    },
    {
      "cell_type": "markdown",
      "metadata": {
        "id": "TqNzUHKOjTwk"
      },
      "source": [
        "3.1 Importar os dados\n",
        "Carregar todos o arquivo e verificar dados básicos e gerais para poder realizar o tratamento dos dados (.info, .head etc)"
      ]
    },
    {
      "cell_type": "code",
      "execution_count": null,
      "metadata": {
        "id": "vwHJmJZpjTwk"
      },
      "outputs": [],
      "source": [
        "import pandas as pd\n",
        "import numpy as np\n",
        "import matplotlib.pyplot as plt\n",
        "import seaborn as sns\n",
        "from sklearn.preprocessing import StandardScaler\n",
        "from sklearn.cluster import KMeans\n",
        "from sklearn.model_selection import train_test_split\n",
        "from sklearn.ensemble import RandomForestClassifier\n",
        "from sklearn.metrics import classification_report"
      ]
    },
    {
      "cell_type": "code",
      "execution_count": null,
      "metadata": {
        "id": "XigP9BvJjTwl"
      },
      "outputs": [],
      "source": [
        "df = pd.read_csv('ecommerce_dataset_us.csv', sep='\\t')"
      ]
    },
    {
      "cell_type": "code",
      "execution_count": null,
      "metadata": {
        "scrolled": true,
        "id": "2yE0_PyzjTwm"
      },
      "outputs": [],
      "source": [
        "df.head()"
      ]
    },
    {
      "cell_type": "code",
      "execution_count": null,
      "metadata": {
        "id": "4onaTAirjTwm"
      },
      "outputs": [],
      "source": [
        "df.info(memory_usage='deep') # observando tipo de dados"
      ]
    },
    {
      "cell_type": "markdown",
      "metadata": {
        "id": "xty-zAOLjTwm"
      },
      "source": [
        "3.2 Tratar os dados - Limpeza e Pré-processamento"
      ]
    },
    {
      "cell_type": "code",
      "execution_count": null,
      "metadata": {
        "id": "9R8OQT7tjTwm"
      },
      "outputs": [],
      "source": [
        "df.columns"
      ]
    },
    {
      "cell_type": "code",
      "execution_count": null,
      "metadata": {
        "id": "drggicu5jTwn"
      },
      "outputs": [],
      "source": [
        "# Percorrendo os cabeçalhos e convertendo tudo em minúsculas\n",
        "df.columns = df.columns.str.lower()"
      ]
    },
    {
      "cell_type": "code",
      "execution_count": null,
      "metadata": {
        "scrolled": true,
        "id": "PwY5XCU4jTwn"
      },
      "outputs": [],
      "source": [
        "df.columns # verificando se converteu"
      ]
    },
    {
      "cell_type": "code",
      "execution_count": null,
      "metadata": {
        "scrolled": true,
        "id": "l9ycxbofjTwn"
      },
      "outputs": [],
      "source": [
        "#Verificar valores ausentes e substituir valores ausentes (se necessário)\n",
        "df.isnull().sum()"
      ]
    },
    {
      "cell_type": "code",
      "execution_count": null,
      "metadata": {
        "scrolled": true,
        "id": "BsuLzPH8jTwn"
      },
      "outputs": [],
      "source": [
        "df['description'].describe()"
      ]
    },
    {
      "cell_type": "code",
      "execution_count": null,
      "metadata": {
        "id": "FabyIFp5jTwn"
      },
      "outputs": [],
      "source": [
        "df['description'].nunique()"
      ]
    },
    {
      "cell_type": "code",
      "execution_count": null,
      "metadata": {
        "id": "2vi3ovy_jTwo"
      },
      "outputs": [],
      "source": [
        "df['description'].fillna('unknown', inplace=True) # retirando os nomes em branco e substituindo por desconhecido"
      ]
    },
    {
      "cell_type": "code",
      "execution_count": null,
      "metadata": {
        "id": "VQh3KQ8zjTwo"
      },
      "outputs": [],
      "source": [
        "df['description'].isnull().sum() # verificando se removeu"
      ]
    },
    {
      "cell_type": "code",
      "execution_count": null,
      "metadata": {
        "id": "dSJd0xsDjTwo"
      },
      "outputs": [],
      "source": [
        "df['description'].duplicated().sum()"
      ]
    },
    {
      "cell_type": "code",
      "execution_count": null,
      "metadata": {
        "scrolled": true,
        "id": "Qa9NSJhCjTwo"
      },
      "outputs": [],
      "source": [
        "df['description'].drop_duplicates().reset_index(drop=True).to_frame(name='item')"
      ]
    },
    {
      "cell_type": "code",
      "execution_count": null,
      "metadata": {
        "scrolled": true,
        "id": "6y-1a5QvjTwo"
      },
      "outputs": [],
      "source": [
        "df['customerid'].describe()"
      ]
    },
    {
      "cell_type": "code",
      "execution_count": null,
      "metadata": {
        "id": "f7VVhpRljTwo"
      },
      "outputs": [],
      "source": [
        "df['customerid'].isnull().sum()"
      ]
    },
    {
      "cell_type": "code",
      "execution_count": null,
      "metadata": {
        "id": "7POc0c98jTwp"
      },
      "outputs": [],
      "source": [
        "df['customerid'].nunique() # 4372 clientes unicos"
      ]
    },
    {
      "cell_type": "code",
      "execution_count": null,
      "metadata": {
        "id": "P8WccuBJjTwp"
      },
      "outputs": [],
      "source": [
        "df['customerid'].fillna('unknownID', inplace=True) # retirando os nomes em branco e substituindo por desconhecido"
      ]
    },
    {
      "cell_type": "code",
      "execution_count": null,
      "metadata": {
        "id": "T1rMkbc5jTwp"
      },
      "outputs": [],
      "source": [
        "df['customerid'].isnull().sum() #verificando de converteu"
      ]
    },
    {
      "cell_type": "code",
      "execution_count": null,
      "metadata": {
        "scrolled": true,
        "id": "SG5MYp03jTwp"
      },
      "outputs": [],
      "source": [
        "df['customerid'].duplicated().sum() #Verificar valores duplicados e remover duplicados (se necessário)"
      ]
    },
    {
      "cell_type": "code",
      "execution_count": null,
      "metadata": {
        "id": "LwhxmmXvjTwp"
      },
      "outputs": [],
      "source": [
        "df['customerid'].drop_duplicates()"
      ]
    },
    {
      "cell_type": "code",
      "execution_count": null,
      "metadata": {
        "id": "4BPLqy8ljTwp"
      },
      "outputs": [],
      "source": [
        "#Converter tipos para otimizar espaço do arquivo e facilitar análise (se necessário)\n",
        "df['invoicedate'] = pd.to_datetime(df['invoicedate'])"
      ]
    },
    {
      "cell_type": "code",
      "execution_count": null,
      "metadata": {
        "id": "0h4CIh5ijTwp"
      },
      "outputs": [],
      "source": [
        "df.info()"
      ]
    },
    {
      "cell_type": "code",
      "execution_count": null,
      "metadata": {
        "id": "gq2syNvRjTwp"
      },
      "outputs": [],
      "source": [
        "#Converter variáveis categóricas e normalizar valores numéricos\n",
        "df['invoiceno'] = pd.to_numeric(df['invoiceno'], errors='coerce').astype('Int64')\n",
        "df['stockcode'] = pd.to_numeric(df['stockcode'], errors='coerce').astype('Int64')\n",
        "df['quantity'] = pd.to_numeric(df['quantity'], errors='coerce').astype('Int64')"
      ]
    },
    {
      "cell_type": "code",
      "execution_count": null,
      "metadata": {
        "id": "fW5KfIlPjTwp"
      },
      "outputs": [],
      "source": [
        "df.info(memory_usage='deep') # observando tipo de dados, converteu tudo para inteiro o orquivo ficou mais leve com metade do tamanho inicial"
      ]
    },
    {
      "cell_type": "code",
      "execution_count": null,
      "metadata": {
        "id": "ecjdnkS-jTwq"
      },
      "outputs": [],
      "source": [
        "#Verificar consistência e unicidade de customerID\n",
        "df['customerid'].describe() # nao posso passar para inteiro pois existe uma grande quantidade de usuarios desconhecidos que nao podemos ignorar na analise"
      ]
    },
    {
      "cell_type": "code",
      "execution_count": null,
      "metadata": {
        "scrolled": true,
        "id": "D2iOMkexjTwq"
      },
      "outputs": [],
      "source": [
        "#Verificar integridade dos dados antes de seguir (conferindo numero de linhas etc)\n",
        "df.sample(10)"
      ]
    },
    {
      "cell_type": "code",
      "execution_count": null,
      "metadata": {
        "id": "t-1xB4xGjTwq"
      },
      "outputs": [],
      "source": [
        "df['invoiceno'].sample(3)"
      ]
    },
    {
      "cell_type": "code",
      "execution_count": null,
      "metadata": {
        "id": "UNPkP0cNjTwq"
      },
      "outputs": [],
      "source": [
        "df['stockcode'].sample(3)"
      ]
    },
    {
      "cell_type": "markdown",
      "metadata": {
        "id": "JZZVojyWjTwq"
      },
      "source": [
        "4. Analise Exploratoria dos Dados"
      ]
    },
    {
      "cell_type": "markdown",
      "metadata": {
        "id": "bP3S5kgAjTwq"
      },
      "source": [
        "4. Análise Exploratória dos Dados:\n",
        "4.1 Analisar os dados(distribuições, correlações e outliers) explorando correlações entre variáveis"
      ]
    },
    {
      "cell_type": "code",
      "execution_count": null,
      "metadata": {
        "id": "RkpZZGkdjTwq"
      },
      "outputs": [],
      "source": [
        "#investigar o porque de valores negativos, provavelmente ligados a devolucoes de estoque."
      ]
    },
    {
      "cell_type": "code",
      "execution_count": null,
      "metadata": {
        "id": "oAY8wq-wjTww"
      },
      "outputs": [],
      "source": [
        "# Criar coluna de valor total da compra\n",
        "df['totalprice'] = df['quantity'] * df['unitprice']"
      ]
    },
    {
      "cell_type": "code",
      "execution_count": null,
      "metadata": {
        "scrolled": true,
        "id": "zO-iH4fKjTww"
      },
      "outputs": [],
      "source": [
        "df['totalprice'].describe()"
      ]
    },
    {
      "cell_type": "code",
      "execution_count": null,
      "metadata": {
        "id": "lif8R-KojTww"
      },
      "outputs": [],
      "source": [
        "# esse numero minimo negativo deve indicar o numero de devolucoes, devemos excluir quando analisar os dados"
      ]
    },
    {
      "cell_type": "code",
      "execution_count": null,
      "metadata": {
        "scrolled": true,
        "id": "AOyiElaLjTww"
      },
      "outputs": [],
      "source": [
        "df"
      ]
    },
    {
      "cell_type": "code",
      "execution_count": null,
      "metadata": {
        "scrolled": true,
        "id": "mFk97Y_ljTww"
      },
      "outputs": [],
      "source": [
        "df[df['quantity'] < 0].sample(5)\n",
        "#investigar o porque de valores negativos, provavelmente ligados a devolucoes de estoque"
      ]
    },
    {
      "cell_type": "code",
      "execution_count": null,
      "metadata": {
        "id": "B-0RHSBUjTww"
      },
      "outputs": [],
      "source": [
        "#preciso remover esses valores pois pretendo analisar as compras que sao valores positivos, então removo todos os valores negativos que provavelmente são as devoluções\n",
        "df_vendas = df[(df['quantity'] > 0) & (df['unitprice'] > 0)].copy()"
      ]
    },
    {
      "cell_type": "code",
      "execution_count": null,
      "metadata": {
        "scrolled": true,
        "id": "DtqjC52ojTwx"
      },
      "outputs": [],
      "source": [
        "df_vendas #data frame sem valores negativos"
      ]
    },
    {
      "cell_type": "code",
      "execution_count": null,
      "metadata": {
        "id": "56FdePH5jTwx"
      },
      "outputs": [],
      "source": [
        "top10 = df_vendas.groupby('description')['quantity'].sum().sort_values(ascending=False).head(10) #top produtos vendidos em quantidades vendidas - unidades"
      ]
    },
    {
      "cell_type": "code",
      "execution_count": null,
      "metadata": {
        "scrolled": true,
        "id": "Ca6-zRUvjTwx"
      },
      "outputs": [],
      "source": [
        "plt.figure(figsize=(8,6))\n",
        "sns.barplot(x=top10.values, y=top10.index)\n",
        "plt.title('Top 10 Prudutos por Unidades')\n",
        "plt.xlabel('Quantidade de Produtos')\n",
        "plt.ylabel('Nome do Produto')\n",
        "plt.show() # Criando gráfico"
      ]
    },
    {
      "cell_type": "code",
      "execution_count": null,
      "metadata": {
        "scrolled": true,
        "id": "gLUsey5ZjTwx"
      },
      "outputs": [],
      "source": [
        "topproducts = df_vendas['description'].value_counts().head(10) #top produtos gerais, os que mais aparecem"
      ]
    },
    {
      "cell_type": "code",
      "execution_count": null,
      "metadata": {
        "scrolled": true,
        "id": "SySO8E5bjTwx"
      },
      "outputs": [],
      "source": [
        "plt.figure(figsize=(10,6))\n",
        "sns.barplot(x=topproducts.values, y=topproducts.index)\n",
        "plt.title('Top 10 Prudutos')\n",
        "plt.xlabel('Quantidade de Produtos')\n",
        "plt.ylabel('Nome do Produto')\n",
        "plt.show()"
      ]
    },
    {
      "cell_type": "code",
      "execution_count": null,
      "metadata": {
        "id": "WZykG3NwjTwx"
      },
      "outputs": [],
      "source": [
        "top10unit = df_vendas.groupby('description')['unitprice'].sum().sort_values(ascending=False).head(10)  #top10 produtos vendidos por preço unitãrio"
      ]
    },
    {
      "cell_type": "code",
      "execution_count": null,
      "metadata": {
        "id": "sWpquFXYjTwy"
      },
      "outputs": [],
      "source": [
        "plt.figure(figsize=(10,6))\n",
        "sns.barplot(x=top10unit.values, y=top10unit.index)\n",
        "plt.title('Top 10 Produtos por Preco Unitario')\n",
        "plt.xlabel('Quantidade de Produtos')\n",
        "plt.ylabel('Nome do Produto')\n",
        "plt.show()"
      ]
    },
    {
      "cell_type": "code",
      "execution_count": null,
      "metadata": {
        "scrolled": true,
        "id": "Fms4SMLjjTwy"
      },
      "outputs": [],
      "source": [
        "top10total = df_vendas.groupby('description')['totalprice'].sum().sort_values(ascending=False).head(10)  #top10 produtos vendidos em preco total do pedido"
      ]
    },
    {
      "cell_type": "code",
      "execution_count": null,
      "metadata": {
        "id": "9j6V4sNyjTwy"
      },
      "outputs": [],
      "source": [
        "top10total.plot(kind='bar', figsize=(22, 6), color='purple', title='Top 10 Produtos Mais Vendidos em Valores Totais')\n",
        "# Ajustar rótulos\n",
        "plt.xlabel('Nome do Produto')\n",
        "plt.ylabel('Vendas Totais (em mil)')\n",
        "plt.xticks(rotation=45)  # Inclina os nomes pra melhor leitura\n",
        "plt.show()"
      ]
    },
    {
      "cell_type": "code",
      "execution_count": null,
      "metadata": {
        "id": "E3vpiSfrjTwy"
      },
      "outputs": [],
      "source": [
        "top10clients = df_vendas.groupby('customerid')['totalprice'].sum().sort_values(ascending=False).head(10) #top 10 clientes por venda total, no caso soma de venda de usuarios desconhecidos nao pode ser ignorada, focar em identificar para poder segmentar melhor\n",
        "print (top10clients)"
      ]
    },
    {
      "cell_type": "code",
      "execution_count": null,
      "metadata": {
        "scrolled": true,
        "id": "VpOOUDKcjTwy"
      },
      "outputs": [],
      "source": [
        "top10clients.plot(kind='bar', figsize=(12, 6), color='orange', title='Top 10 Clientes em Valores Totais de Pedidos')\n",
        "# Ajustar rótulos\n",
        "plt.xlabel('Cliente')\n",
        "plt.ylabel('Vendas Totais (em mil)')\n",
        "plt.xticks(rotation=90)  # Inclina os nomes pra melhor leitura\n",
        "plt.show()"
      ]
    },
    {
      "cell_type": "code",
      "execution_count": null,
      "metadata": {
        "id": "T9QHFGJKjTwz"
      },
      "outputs": [],
      "source": [
        "df_vendas.groupby('customerid')['totalprice'].describe()"
      ]
    },
    {
      "cell_type": "code",
      "execution_count": null,
      "metadata": {
        "scrolled": true,
        "id": "kJrIRpZcjTwz"
      },
      "outputs": [],
      "source": [
        "dfct = df_vendas.groupby('customerid')['totalprice'].mean().reset_index()\n",
        "print (dfct)"
      ]
    },
    {
      "cell_type": "code",
      "execution_count": null,
      "metadata": {
        "scrolled": true,
        "id": "r0Za1DrMjTwz"
      },
      "outputs": [],
      "source": [
        "plt.figure(figsize=(8, 6))\n",
        "plt.boxplot(dfct['totalprice'], vert=True)\n",
        "plt.title('Boxplot: Média de Valor dos Pedidos por Cliente')\n",
        "plt.xlabel('Média do Valor dos Pedidos')\n",
        "plt.tight_layout()\n",
        "plt.show()"
      ]
    },
    {
      "cell_type": "code",
      "execution_count": null,
      "metadata": {
        "id": "Vd7ySqpvjTwz"
      },
      "outputs": [],
      "source": [
        "tops = df_vendas.groupby('customerid')['description'].value_counts().nlargest(5) #top\n",
        "print (tops)"
      ]
    },
    {
      "cell_type": "code",
      "execution_count": null,
      "metadata": {
        "id": "C9gm4UrgjTwz"
      },
      "outputs": [],
      "source": [
        "pedidospordia = df_vendas.groupby(df['invoicedate'].dt.date)['invoiceno'].nunique()\n",
        "print (pedidospordia)"
      ]
    },
    {
      "cell_type": "code",
      "execution_count": null,
      "metadata": {
        "scrolled": true,
        "id": "X5Ce1C2njTw0"
      },
      "outputs": [],
      "source": [
        "pedidospordia.plot(title='Número de pedidos por dia')\n",
        "plt.xlabel(\"Data\")\n",
        "plt.ylabel(\"Pedidos únicos\") #pedidos por dia"
      ]
    },
    {
      "cell_type": "code",
      "execution_count": null,
      "metadata": {
        "scrolled": true,
        "id": "4Mpnk4JNjTw0"
      },
      "outputs": [],
      "source": [
        "df_vendas['invoicedate'].describe() # dados entre 29 de out 2018 e 7 de dez 2019  - aproximadamente 1 ano e 3 meses de análises, top de vendas foi em 29 de out de 2019"
      ]
    },
    {
      "cell_type": "code",
      "execution_count": null,
      "metadata": {
        "id": "zwGmR_MBjTw0"
      },
      "outputs": [],
      "source": [
        "clientespordia = df_vendas.groupby(df['invoicedate'].dt.date)['customerid'].nunique()\n",
        "clientespordia.plot(title='Número de clientes por dia')\n",
        "plt.xlabel(\"Data\")\n",
        "plt.ylabel(\"Clientes\") # clientes por dia"
      ]
    },
    {
      "cell_type": "code",
      "execution_count": null,
      "metadata": {
        "id": "U3HqpVnKjTw0"
      },
      "outputs": [],
      "source": [
        "vendaspordia = df_vendas.groupby(df['invoicedate'].dt.date)['totalprice'].sum()\n",
        "vendaspordia.plot(title='Total de vendas por dia (USD)')\n",
        "plt.xlabel(\"Data\")\n",
        "plt.ylabel(\"Valor de Vendas\") #total de vendas por dia"
      ]
    },
    {
      "cell_type": "code",
      "execution_count": null,
      "metadata": {
        "id": "5499GdXLjTw0"
      },
      "outputs": [],
      "source": [
        "vendaspordia.describe()"
      ]
    },
    {
      "cell_type": "code",
      "execution_count": null,
      "metadata": {
        "id": "r_kGdjadjTw0"
      },
      "outputs": [],
      "source": [
        "df_vendas['date'] = df_vendas['invoicedate'].dt.date\n",
        "df_vendas['hour'] = df_vendas['invoicedate'].dt.hour"
      ]
    },
    {
      "cell_type": "code",
      "execution_count": null,
      "metadata": {
        "id": "mZyit1u7jTw0"
      },
      "outputs": [],
      "source": [
        "df_vendas['date'].describe() # maior dia de vendas 03/12/2019"
      ]
    },
    {
      "cell_type": "code",
      "execution_count": null,
      "metadata": {
        "scrolled": true,
        "id": "3wuyMm4DjTw1"
      },
      "outputs": [],
      "source": [
        "df_vendas['hour'].describe() # entre as 6 e as 20 hrs, sendo que maior parte dos pedidos fica entre as 13 e 15 hrs."
      ]
    },
    {
      "cell_type": "markdown",
      "metadata": {
        "id": "jR3p73qLjTw1"
      },
      "source": [
        "Grafico de Dispersao\n",
        "Produtos e Valor total"
      ]
    },
    {
      "cell_type": "code",
      "execution_count": null,
      "metadata": {
        "id": "d0UYxEgCjTw1"
      },
      "outputs": [],
      "source": [
        "df_vp = df_vendas.groupby('description')['totalprice'].sum().reset_index()\n",
        "print (df_vp)"
      ]
    },
    {
      "cell_type": "code",
      "execution_count": null,
      "metadata": {
        "id": "YVav9uxjjTw1"
      },
      "outputs": [],
      "source": [
        "df_top20 = df_vp.nlargest(30, 'totalprice')\n",
        "# Plotar gráfico de dispersão\n",
        "plt.figure(figsize=(20, 6))\n",
        "plt.scatter(df_top20['description'], df_top20['totalprice'], color='green')\n",
        "plt.xticks(rotation=90)\n",
        "plt.title('Top 30 Produtos por Valor Total de Venda')\n",
        "plt.xlabel('Produto (description)')\n",
        "plt.ylabel('Valor Total (totalprice)')\n",
        "plt.tight_layout()\n",
        "plt.show()"
      ]
    },
    {
      "cell_type": "code",
      "execution_count": null,
      "metadata": {
        "scrolled": true,
        "id": "Xs76yW6zjTw1"
      },
      "outputs": [],
      "source": [
        "df_vendas['totalprice'].describe() # maioria dos pedidos fica entre 9.90 e 17.70 dolares."
      ]
    },
    {
      "cell_type": "code",
      "execution_count": null,
      "metadata": {
        "id": "I3skKv8FjTw1"
      },
      "outputs": [],
      "source": [
        "df_vendas['unitprice'].describe() # maioria dos precos unitarios fica entre 2 e 4 dolares."
      ]
    },
    {
      "cell_type": "code",
      "execution_count": null,
      "metadata": {
        "id": "PNsJWK-yjTw2"
      },
      "outputs": [],
      "source": [
        "heatmap_data = df_vendas.groupby(['date', 'hour'])['totalprice'].sum().unstack()"
      ]
    },
    {
      "cell_type": "code",
      "execution_count": null,
      "metadata": {
        "id": "jV2tOny3jTw2"
      },
      "outputs": [],
      "source": [
        "# Converte todos os valores para float\n",
        "heatmap_data = heatmap_data.apply(pd.to_numeric, errors='coerce').fillna(0).astype(float)"
      ]
    },
    {
      "cell_type": "code",
      "execution_count": null,
      "metadata": {
        "id": "2pbnVM9XjTw2"
      },
      "outputs": [],
      "source": [
        "df_vendas['week'] = pd.to_datetime(df_vendas['invoicedate']).dt.to_period('W').apply(lambda r: r.start_time)\n",
        "df_vendas['hour'] = pd.to_datetime(df_vendas['invoicedate']).dt.hour\n",
        "df_vendas['week'] = df_vendas['week'].dt.strftime('%d/%m/%Y')\n",
        "heatmap_data = df_vendas.groupby(['week', 'hour'])['totalprice'].sum().unstack()\n",
        "heatmap_data = heatmap_data.fillna(0).astype(float)"
      ]
    },
    {
      "cell_type": "code",
      "execution_count": null,
      "metadata": {
        "id": "lSvj5CRljTw2"
      },
      "outputs": [],
      "source": [
        "plt.figure(figsize=(18, 8))\n",
        "sns.heatmap(heatmap_data, cmap='Oranges', linewidths=2, linecolor='white')\n",
        "plt.title(\"Heatmap: Vendas Semanais por Hora do Dia\", fontsize=16)\n",
        "plt.xlabel(\"Hora do Dia\")\n",
        "plt.ylabel(\"Semana\")\n",
        "plt.xticks(rotation=0)\n",
        "plt.yticks(rotation=0)\n",
        "plt.tight_layout()\n",
        "plt.show()"
      ]
    },
    {
      "cell_type": "markdown",
      "metadata": {
        "id": "vJyprpSwjTw2"
      },
      "source": [
        "Segmentação com K-means (Machine Learning)"
      ]
    },
    {
      "cell_type": "code",
      "execution_count": null,
      "metadata": {
        "id": "bql2CK0AjTw2"
      },
      "outputs": [],
      "source": [
        "# Pré-processamento\n",
        "X = dfct[['totalprice']].copy()\n",
        "\n",
        "# Aplica K-means para 3 segmentos (Baixo, médio, alto)\n",
        "kmeans = KMeans(n_clusters=3, random_state=42)\n",
        "dfct['segmento_kmeans'] = kmeans.fit_predict(X)\n",
        "\n",
        "# Opcional: ordenar os clusters do menor para o maior valor médio\n",
        "dfct['segmento_kmeans'] = dfct['segmento_kmeans'].map(\n",
        "    dict(sorted(zip(\n",
        "        np.argsort(kmeans.cluster_centers_.flatten()),\n",
        "        ['Baixo', 'Médio', 'Alto'] ))))"
      ]
    },
    {
      "cell_type": "code",
      "execution_count": null,
      "metadata": {
        "scrolled": true,
        "id": "891X-1M0jTw2"
      },
      "outputs": [],
      "source": [
        "# Ver exemplo do resultado aleatorio de amostras\n",
        "print(dfct[['customerid', 'totalprice', 'segmento_kmeans']].sample(10))"
      ]
    },
    {
      "cell_type": "code",
      "execution_count": null,
      "metadata": {
        "scrolled": true,
        "id": "78ElPC6LjTw3"
      },
      "outputs": [],
      "source": [
        "plt.figure(figsize=(18, 12))\n",
        "sns.boxplot(data=dfct, x='segmento_kmeans', y='totalprice', palette='Oranges')\n",
        "plt.title('Distribuição dos Segmentos de Clientes (K-means)')\n",
        "plt.xlabel('Segmento')\n",
        "plt.ylabel('Média de Valor dos Pedidos')\n",
        "plt.show()"
      ]
    },
    {
      "cell_type": "code",
      "execution_count": null,
      "metadata": {
        "id": "ee76OlO4jTw3"
      },
      "outputs": [],
      "source": [
        "dfct"
      ]
    },
    {
      "cell_type": "markdown",
      "metadata": {
        "id": "2hXdXDM-jTw3"
      },
      "source": [
        "4.4 Validação e testes\n",
        "    Avaliar métricas (precision, recall, F1-score)"
      ]
    },
    {
      "cell_type": "code",
      "execution_count": null,
      "metadata": {
        "id": "An-ECF9pjTw3"
      },
      "outputs": [],
      "source": [
        "# Definir X e Y\n",
        "X = dfct.drop(columns=['totalprice', 'segmento_kmeans'])\n",
        "y = dfct['segmento_kmeans']\n",
        "X = pd.get_dummies(X, drop_first=True)\n",
        "\n",
        "# Dividir\n",
        "X_train, X_valid, y_train, y_valid = train_test_split(X, y, test_size=0.2, random_state=42)\n",
        "\n",
        "# Classificador\n",
        "rf_model = RandomForestClassifier(random_state=42)\n",
        "rf_model.fit(X_train, y_train)\n",
        "\n",
        "y_pred_rf = rf_model.predict(X_valid)\n",
        "print(\"Floresta Aleatória (Classificação de segmento):\")\n",
        "print(classification_report(y_valid, y_pred_rf))"
      ]
    },
    {
      "cell_type": "code",
      "execution_count": null,
      "metadata": {
        "id": "iJZ7ZeYtjTw3"
      },
      "outputs": [],
      "source": [
        "feat_importance = pd.Series(rf_model.feature_importances_, index=X.columns)\n",
        "feat_importance.nlargest(10).plot(kind='barh')\n",
        "plt.title(\"Top 10 Variáveis Importantes\")"
      ]
    },
    {
      "cell_type": "markdown",
      "metadata": {
        "id": "L98odEDWjTw3"
      },
      "source": [
        "Previsões e Conclusões:\n",
        "Recomendações para a equipe de marketing com os achados\n",
        "\n",
        "Produtos top 5 - Fazer ações específicas para esses produtos que são o carro chefe da loja, por exemplo na compra de 4 leve 1 gratuitamente. Tendência é aumentar a venda desses items.\n",
        "Produtos que mais vendem - valor unitário entre 2 a 4 dólares, focar nesse tipo de produto que apesar de ter baixo agrega maior valor total, aumentando ticket médio.\n",
        "A maioria dos pedidos fica entre 9.90 e 17.70 dolares, fazer promoções tentando aumentar esse valor médio de pedidos, por exemplo se pedido ultrapassar 20 dólares oferecer uma amostra ou brinde ou desconto na próxima compra.\n",
        "Média de pedidos por dia - até 140 pedidos, tentar aumentar esses valores de pedidos com alertas por email e SMS para promoções no segundo pedido da semana ou dia com descontos.\n",
        "Média de 120 clientes por dia - alguns repetem mais de 1 pedido ao dia, tentar aumentar esse número fazendo comprarem por repetição, oferecer frete grátis pro segundo ou terceiro pedido no mesmo dia, já que serão entregues no mesmo momento.\n",
        "Dados da análise entre 29 de out 2018 e 7 de dez 2019  - aproximadamente 1 ano e 3 meses de análises, top de vendas foi em 29 de out de 2019 - tentar entender se houve algum evento para esse elevado número de vendas.\n",
        "Tentar saber e forçar registro dos clientes unkown visto que suas compras são consideráveis e por isso não podemos descartá-los da análise, tentar de alguma forma identificar o cliente para poder estudar melhor o perfil desses clientes seja através de telefone ou email.\n",
        "Hora dos pedidos - entre 9 e 17 hrs maior número de pedidos, instalar pop-ups que nesses horários tentem aumentar venda de items por impulso.\n",
        "A maior parte dos clientes e os que realmente impactam a lucratividade são os que realizam pedidos mais baixos porém continuamente, valorizar fidelização, sistema de pontos e descontos etc."
      ]
    },
    {
      "cell_type": "code",
      "execution_count": null,
      "metadata": {
        "id": "5__ltF59jTw4"
      },
      "outputs": [],
      "source": [
        "# Exporta para CSV para fazer tableau\n",
        "df_vendas.to_csv('vendas.csv', index=False)"
      ]
    },
    {
      "cell_type": "markdown",
      "metadata": {
        "id": "WYRuh5f0jTw4"
      },
      "source": [
        "Dashbords  - links tableau publico\n",
        "https://public.tableau.com/app/profile/debora.pivatto/viz/FinalProject1_17541317175330/Sheet1?publish=yes\n",
        "https://public.tableau.com/app/profile/debora.pivatto/viz/FinalProject1_1_17541324490910/Sheet2?publish=yes"
      ]
    },
    {
      "cell_type": "markdown",
      "metadata": {
        "id": "Uf7KCacAjTw4"
      },
      "source": [
        "Fontes e Funções:\n",
        "Pandas -  Manipulação de DataFrames, agregações\n",
        "Seaborn -  Criação de gráficos estatísticos\n",
        "Tableau Public - Criação de dashboards interativos\n",
        "Matplotlib - Gráficos personalizados\n",
        "scikit-learn documentation - KMeans, StandardScaler, métricas"
      ]
    },
    {
      "cell_type": "code",
      "execution_count": null,
      "metadata": {
        "id": "3rwj-8s0jTw4"
      },
      "outputs": [],
      "source": [
        "Apresentacao - ppt\n",
        "file:///C:/Users/User/Tripleten/Sprint%2014/Presentation.pdf\n",
        "Anexado neste notebook\n",
        "https://1drv.ms/p/c/0d14907ef08d7971/EThdrNeP_T5LkE7w6ocVtmEBKN3CiAujTrp7dy8C_YyOiw?e=clUXCO"
      ]
    }
  ],
  "metadata": {
    "kernelspec": {
      "display_name": "Python 3 (ipykernel)",
      "language": "python",
      "name": "python3"
    },
    "language_info": {
      "codemirror_mode": {
        "name": "ipython",
        "version": 3
      },
      "file_extension": ".py",
      "mimetype": "text/x-python",
      "name": "python",
      "nbconvert_exporter": "python",
      "pygments_lexer": "ipython3",
      "version": "3.9.23"
    },
    "colab": {
      "provenance": [],
      "include_colab_link": true
    }
  },
  "nbformat": 4,
  "nbformat_minor": 0
}